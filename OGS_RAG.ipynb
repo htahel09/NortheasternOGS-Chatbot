{
 "cells": [
  {
   "cell_type": "code",
   "execution_count": 1,
   "metadata": {},
   "outputs": [
    {
     "name": "stdout",
     "output_type": "stream",
     "text": [
      "WARNING:tensorflow:From c:\\Users\\Himanshu\\AppData\\Local\\Programs\\Python\\Python312\\Lib\\site-packages\\tf_keras\\src\\losses.py:2976: The name tf.losses.sparse_softmax_cross_entropy is deprecated. Please use tf.compat.v1.losses.sparse_softmax_cross_entropy instead.\n",
      "\n"
     ]
    }
   ],
   "source": [
    "from sentence_transformers import SentenceTransformer\n",
    "from torch.utils.data import Dataset\n",
    "import pandas as pd\n",
    "import numpy as np\n",
    "import faiss\n",
    "import os\n",
    "import json\n",
    "from torch.utils.data import Dataset\n",
    "from transformers import AutoModelForCausalLM, AutoTokenizer\n",
    "import torch\n",
    "\n"
   ]
  },
  {
   "cell_type": "code",
   "execution_count": 2,
   "metadata": {},
   "outputs": [],
   "source": [
    "class Embeddings:\n",
    "    \"\"\"\n",
    "    A class to generate and store sentence embeddings for a given dataset.\n",
    "    \n",
    "    Attributes:\n",
    "        model (SentenceTransformer): Pre-trained transformer model for generating embeddings.\n",
    "        data (list): List of dictionaries representing the dataset.\n",
    "        embeddings (np.ndarray): NumPy array storing computed embeddings in float32 format.\n",
    "    \"\"\"\n",
    "\n",
    "    def __init__(self, data_path, model=\"sentence-transformers/all-MiniLM-L6-v2\", max_length=512): \n",
    "        \"\"\"\n",
    "        Initializes the Embeddings class by loading data and computing embeddings.\n",
    "\n",
    "        Args:\n",
    "            data_path (str): Path to the JSON file containing text data.\n",
    "            model (str, optional): Name of the SentenceTransformer model to use. Defaults to \"sentence-transformers/all-MiniLM-L6-v2\".\n",
    "            max_length (int, optional): Maximum token length for embeddings (not currently used). Defaults to 512.\n",
    "        \"\"\"\n",
    "        self.model = SentenceTransformer(model)  # Load the sentence transformer model\n",
    "        self.data = self.load_data(data_path)  # Load dataset from JSON file\n",
    "\n",
    "        # Compute and store embeddings as float32 for FAISS compatibility\n",
    "        self.embeddings = np.array(\n",
    "            [self.get_embedding(\" \".join(map(str, item.values()))) for item in self.data], \n",
    "            dtype=np.float32\n",
    "        )\n",
    "\n",
    "    def load_data(self, data_path):\n",
    "        \"\"\"\n",
    "        Loads JSON data into a list of dictionaries.\n",
    "\n",
    "        Args:\n",
    "            data_path (str): Path to the JSON file.\n",
    "\n",
    "        Returns:\n",
    "            list: A list of dictionaries, where each dictionary represents an entry in the dataset.\n",
    "        \"\"\"\n",
    "        with open(data_path, \"r\", encoding=\"utf-8\") as file:\n",
    "            return json.load(file)  # Ensure the JSON file contains a list of dictionaries\n",
    "    \n",
    "    def get_embedding(self, text):\n",
    "        \"\"\"\n",
    "        Generates an embedding for a given text using the SentenceTransformer model.\n",
    "\n",
    "        Args:\n",
    "            text (str): Input text to encode.\n",
    "\n",
    "        Returns:\n",
    "            np.ndarray: The generated embedding as a NumPy array in float32 format.\n",
    "        \"\"\"\n",
    "        return self.model.encode(text, convert_to_numpy=True).astype(np.float32)\n"
   ]
  },
  {
   "cell_type": "code",
   "execution_count": 3,
   "metadata": {},
   "outputs": [],
   "source": [
    "class Retrieval:\n",
    "    \"\"\"\n",
    "    A class to perform similarity-based text retrieval using FAISS.\n",
    "\n",
    "    Attributes:\n",
    "        dataset (Embeddings): An instance of the Embeddings class containing text data and embeddings.\n",
    "        index (faiss.IndexFlatL2): FAISS index built using L2 distance for fast retrieval.\n",
    "    \"\"\"\n",
    "\n",
    "    def __init__(self, dataset):\n",
    "        \"\"\"\n",
    "        Initializes the Retrieval class by creating a FAISS index from the dataset's embeddings.\n",
    "\n",
    "        Args:\n",
    "            dataset (Embeddings): An instance of the Embeddings class containing text data and computed embeddings.\n",
    "        \"\"\"\n",
    "        self.dataset = dataset  # Store dataset instance\n",
    "        # Extract the embedding dimension from the dataset\n",
    "        embedding_dim = self.dataset.embeddings.shape[1]\n",
    "        # Create a FAISS index with L2 (Euclidean) distance for similarity search\n",
    "        self.index = faiss.IndexFlatL2(embedding_dim)\n",
    "        # Add dataset embeddings to the FAISS index\n",
    "        self.index.add(self.dataset.embeddings)\n",
    "\n",
    "    def search(self, query, k=1):\n",
    "        \"\"\"\n",
    "        Finds the top-k most relevant documents using FAISS similarity search.\n",
    "\n",
    "        Args:\n",
    "            query (str): The query text to search for similar entries.\n",
    "            k (int, optional): The number of top results to return. Defaults to 1.\n",
    "\n",
    "        Returns:\n",
    "            list or dict: If k=1, returns a single dictionary with 'title' and 'url'.\n",
    "                          If k>1, returns a list of such dictionaries.\n",
    "        \"\"\"\n",
    "        # Convert query text into an embedding\n",
    "        query_vector = self.dataset.get_embedding(query).reshape(1, -1)\n",
    "        # Search FAISS index for the k nearest neighbors\n",
    "        distances, indices = self.index.search(query_vector, k)\n",
    "        # Extract only 'url' and 'title' from the retrieved results\n",
    "        results = [\n",
    "            {\n",
    "                \"title\": self.dataset.data[i].get(\"title\", \"No Title\"), \n",
    "                \"url\": self.dataset.data[i].get(\"url\", \"No URL\")\n",
    "            }\n",
    "            for i in indices[0] if i < len(self.dataset.data)  # Ensure index is valid\n",
    "        ]\n",
    "\n",
    "        return results if k > 1 else results[0]  # Return a list if k > 1, else return a single result"
   ]
  },
  {
   "cell_type": "code",
   "execution_count": 5,
   "metadata": {},
   "outputs": [],
   "source": [
    "\n",
    "dataset = Embeddings(\"json_input_data.json\")  # JSON file with a list of dictionaries\n"
   ]
  },
  {
   "cell_type": "code",
   "execution_count": null,
   "metadata": {},
   "outputs": [],
   "source": [
    "retriever = Retrieval(dataset)  # Create a retrieval instance with the dataset\n",
    "query = \"Healthcare benefits for international students\"\n",
    "top_result = retriever.search(query, k=3)"
   ]
  },
  {
   "cell_type": "code",
   "execution_count": 9,
   "metadata": {},
   "outputs": [
    {
     "name": "stdout",
     "output_type": "stream",
     "text": [
      "{'title': 'International Student Support | Northeastern International Student Hub', 'url': 'https://international.northeastern.edu/student-support/'}\n",
      "{'title': 'Health Insurance - Office of Global Services', 'url': 'https://international.northeastern.edu/ogs/student-support/global-campuses/canada/health-insurance/'}\n",
      "{'title': 'Health - Office of Global Services', 'url': 'https://international.northeastern.edu/ogs/health/'}\n"
     ]
    }
   ],
   "source": [
    "for result in top_result:\n",
    "    print(result)"
   ]
  },
  {
   "cell_type": "code",
   "execution_count": 78,
   "metadata": {},
   "outputs": [
    {
     "name": "stdout",
     "output_type": "stream",
     "text": [
      "[{'title': 'International Student Support | Northeastern International Student Hub', 'url': 'https://international.northeastern.edu/student-support/'}, {'title': 'Health Insurance - Office of Global Services', 'url': 'https://international.northeastern.edu/ogs/student-support/global-campuses/canada/health-insurance/'}, {'title': 'Health - Office of Global Services', 'url': 'https://international.northeastern.edu/ogs/health/'}]\n"
     ]
    }
   ],
   "source": [
    "print(top_result)"
   ]
  },
  {
   "cell_type": "code",
   "execution_count": null,
   "metadata": {},
   "outputs": [],
   "source": []
  }
 ],
 "metadata": {
  "kernelspec": {
   "display_name": "Python 3",
   "language": "python",
   "name": "python3"
  },
  "language_info": {
   "codemirror_mode": {
    "name": "ipython",
    "version": 3
   },
   "file_extension": ".py",
   "mimetype": "text/x-python",
   "name": "python",
   "nbconvert_exporter": "python",
   "pygments_lexer": "ipython3",
   "version": "3.12.2"
  }
 },
 "nbformat": 4,
 "nbformat_minor": 2
}
