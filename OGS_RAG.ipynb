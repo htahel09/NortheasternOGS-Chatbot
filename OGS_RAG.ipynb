{
 "cells": [
  {
   "cell_type": "code",
   "execution_count": 80,
   "metadata": {},
   "outputs": [],
   "source": [
    "from sentence_transformers import SentenceTransformer\n",
    "from torch.utils.data import Dataset\n",
    "import pandas as pd\n",
    "import numpy as np\n",
    "import faiss\n",
    "import os\n",
    "import json\n",
    "from torch.utils.data import Dataset\n",
    "from transformers import AutoModelForCausalLM, AutoTokenizer\n",
    "import torch\n",
    "\n"
   ]
  },
  {
   "cell_type": "code",
   "execution_count": 75,
   "metadata": {},
   "outputs": [],
   "source": [
    "class Retrieval:\n",
    "    \"\"\"\n",
    "    A class to perform similarity-based text retrieval using FAISS and generate responses using Phi-3 Mini.\n",
    "    \"\"\"\n",
    "\n",
    "    def __init__(self, dataset):\n",
    "        \"\"\"\n",
    "        Initializes the Retrieval class by creating a FAISS index from the dataset's embeddings.\n",
    "\n",
    "        Args:\n",
    "            dataset (Embeddings): An instance of the Embeddings class containing text data and computed embeddings.\n",
    "        \"\"\"\n",
    "        self.dataset = dataset\n",
    "\n",
    "        # Extract the embedding dimension from the dataset\n",
    "        embedding_dim = self.dataset.embeddings.shape[1]\n",
    "\n",
    "        # Create a FAISS index with L2 (Euclidean) distance for similarity search\n",
    "        self.index = faiss.IndexFlatL2(embedding_dim)\n",
    "\n",
    "        # Add dataset embeddings to the FAISS index\n",
    "        self.index.add(self.dataset.embeddings)\n",
    "\n",
    "    def search(self, query, k=1):\n",
    "        \"\"\"\n",
    "        Finds the top-k most relevant documents using FAISS similarity search.\n",
    "\n",
    "        Args:\n",
    "            query (str): The query text to search for similar entries.\n",
    "            k (int, optional): The number of top results to return. Defaults to 1.\n",
    "\n",
    "        Returns:\n",
    "            list: A list of dictionaries containing 'title' and 'url' of the retrieved documents.\n",
    "        \"\"\"\n",
    "        # Convert query text into an embedding\n",
    "        query_vector = self.dataset.get_embedding(query).reshape(1, -1)\n",
    "\n",
    "        # Search FAISS index for the k nearest neighbors\n",
    "        distances, indices = self.index.search(query_vector, k)\n",
    "\n",
    "        # Extract only 'url' and 'title' from the retrieved results\n",
    "        results = [\n",
    "            {\n",
    "                \"title\": self.dataset.data[i].get(\"title\", \"No Title\"),\n",
    "                \"url\": self.dataset.data[i].get(\"url\", \"No URL\")\n",
    "            }\n",
    "            for i in indices[0] if i < len(self.dataset.data)  # Ensure index is valid\n",
    "        ]\n",
    "\n",
    "        return results  # Return top-k retrieved documents\n",
    "\n",
    "    def generate_response(self, query, k=3):\n",
    "        \"\"\"\n",
    "        Retrieves relevant documents and generates a response using Phi-3 Mini.\n",
    "\n",
    "        Args:\n",
    "            query (str): The user query.\n",
    "            k (int, optional): Number of top relevant documents to retrieve. Defaults to 3.\n",
    "\n",
    "        Returns:\n",
    "            str: AI-generated response based on retrieved documents and user query.\n",
    "        \"\"\"\n",
    "        retrieved_results = self.search(query, k)  # Retrieve relevant documents\n",
    "\n",
    "        # Format the retrieved results as context\n",
    "        context = \"\\n\".join([f\"Title: {res['title']}\\nURL: {res['url']}\" for res in retrieved_results])\n",
    "\n",
    "        # Construct the prompt for Phi-3 Mini\n",
    "        prompt = f\"\"\"You are an AI assistant helping answer questions. Based on the following retrieved documents, generate a useful response.\n",
    "\n",
    "        Context:\n",
    "        {context}\n",
    "\n",
    "        User Query: {query}\n",
    "\n",
    "        AI Response:\n",
    "        \"\"\"\n",
    "\n",
    "        # Tokenize the input\n",
    "        input_tokens = tokenizer(prompt, return_tensors=\"pt\").to(\"cuda\")\n",
    "\n",
    "        # Generate the response\n",
    "        output_tokens = model.generate(**input_tokens, max_length=500)\n",
    "        response = tokenizer.decode(output_tokens[0], skip_special_tokens=True)\n",
    "\n",
    "        return response\n"
   ]
  },
  {
   "cell_type": "code",
   "execution_count": 76,
   "metadata": {},
   "outputs": [],
   "source": [
    "\n",
    "dataset = Embeddings(\"json_input_data.json\")  # JSON file with a list of dictionaries\n"
   ]
  },
  {
   "cell_type": "code",
   "execution_count": 77,
   "metadata": {},
   "outputs": [],
   "source": [
    "retriever = Retrieval(dataset)\n",
    "\n",
    "query = \"Healthcare benefits for international students\"\n",
    "top_result = retriever.search(query, k=3)"
   ]
  },
  {
   "cell_type": "code",
   "execution_count": null,
   "metadata": {},
   "outputs": [
    {
     "name": "stdout",
     "output_type": "stream",
     "text": [
      "{'title': 'International Student Support | Northeastern International Student Hub', 'url': 'https://international.northeastern.edu/student-support/'}\n",
      "{'title': 'Health Insurance - Office of Global Services', 'url': 'https://international.northeastern.edu/ogs/student-support/global-campuses/canada/health-insurance/'}\n",
      "{'title': 'Health - Office of Global Services', 'url': 'https://international.northeastern.edu/ogs/health/'}\n"
     ]
    }
   ],
   "source": [
    "for results in top_result:\n",
    "    for result in results:\n",
    "        print(result)\n",
    "    "
   ]
  },
  {
   "cell_type": "code",
   "execution_count": 78,
   "metadata": {},
   "outputs": [
    {
     "name": "stdout",
     "output_type": "stream",
     "text": [
      "[{'title': 'International Student Support | Northeastern International Student Hub', 'url': 'https://international.northeastern.edu/student-support/'}, {'title': 'Health Insurance - Office of Global Services', 'url': 'https://international.northeastern.edu/ogs/student-support/global-campuses/canada/health-insurance/'}, {'title': 'Health - Office of Global Services', 'url': 'https://international.northeastern.edu/ogs/health/'}]\n"
     ]
    }
   ],
   "source": [
    "print(top_result)"
   ]
  },
  {
   "cell_type": "code",
   "execution_count": null,
   "metadata": {},
   "outputs": [],
   "source": []
  }
 ],
 "metadata": {
  "kernelspec": {
   "display_name": "Python 3",
   "language": "python",
   "name": "python3"
  },
  "language_info": {
   "codemirror_mode": {
    "name": "ipython",
    "version": 3
   },
   "file_extension": ".py",
   "mimetype": "text/x-python",
   "name": "python",
   "nbconvert_exporter": "python",
   "pygments_lexer": "ipython3",
   "version": "3.12.2"
  }
 },
 "nbformat": 4,
 "nbformat_minor": 2
}
