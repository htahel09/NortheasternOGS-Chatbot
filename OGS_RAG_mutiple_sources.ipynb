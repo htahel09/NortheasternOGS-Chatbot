{
 "cells": [
  {
   "cell_type": "code",
   "execution_count": 9,
   "metadata": {
    "executionInfo": {
     "elapsed": 18,
     "status": "ok",
     "timestamp": 1741540936497,
     "user": {
      "displayName": "Himanshu Tahelyani",
      "userId": "02216693148548812411"
     },
     "user_tz": 240
    },
    "id": "ubR3s4Zlh5u8"
   },
   "outputs": [],
   "source": [
    "class Embeddings:\n",
    "    \"\"\"\n",
    "    A class to generate and store sentence embeddings for a given dataset.\n",
    "\n",
    "    Attributes:\n",
    "        model (SentenceTransformer): Pre-trained transformer model for generating embeddings.\n",
    "        data (list): List of dictionaries representing the dataset.\n",
    "        embeddings (np.ndarray): NumPy array storing computed embeddings in float32 format.\n",
    "    \"\"\"\n",
    "\n",
    "    def __init__(self, data_path, model=\"sentence-transformers/all-MiniLM-L6-v2\", max_length=512):\n",
    "        \"\"\"\n",
    "        Initializes the Embeddings class by loading data and computing embeddings.\n",
    "\n",
    "        Args:\n",
    "            data_path (str): Path to the JSON file containing text data.\n",
    "            model (str, optional): Name of the SentenceTransformer model to use. Defaults to \"sentence-transformers/all-MiniLM-L6-v2\".\n",
    "            max_length (int, optional): Maximum token length for embeddings (not currently used). Defaults to 512.\n",
    "        \"\"\"\n",
    "        self.model = SentenceTransformer(model)  # Load the sentence transformer model\n",
    "        self.data = self.load_data(data_path)  # Load dataset from JSON file\n",
    "\n",
    "        # Compute and store embeddings as float32 for FAISS compatibility\n",
    "        self.embeddings = np.array(\n",
    "            [self.get_embedding(\" \".join(map(str, item.values()))) for item in self.data],\n",
    "            dtype=np.float32\n",
    "        )\n",
    "\n",
    "    def load_data(self, data_path):\n",
    "        \"\"\"\n",
    "        Loads JSON data into a list of dictionaries.\n",
    "\n",
    "        Args:\n",
    "            data_path (str): Path to the JSON file.\n",
    "\n",
    "        Returns:\n",
    "            list: A list of dictionaries, where each dictionary represents an entry in the dataset.\n",
    "        \"\"\"\n",
    "        with open(data_path, \"r\", encoding=\"utf-8\") as file:\n",
    "            return json.load(file)  # Ensure the JSON file contains a list of dictionaries\n",
    "\n",
    "    def get_embedding(self, text):\n",
    "        \"\"\"\n",
    "        Generates an embedding for a given text using the SentenceTransformer model.\n",
    "\n",
    "        Args:\n",
    "            text (str): Input text to encode.\n",
    "\n",
    "        Returns:\n",
    "            np.ndarray: The generated embedding as a NumPy array in float32 format.\n",
    "        \"\"\"\n",
    "        return self.model.encode(text, convert_to_numpy=True).astype(np.float32)\n"
   ]
  },
  {
   "cell_type": "code",
   "execution_count": 5,
   "metadata": {
    "colab": {
     "base_uri": "https://localhost:8080/"
    },
    "collapsed": true,
    "executionInfo": {
     "elapsed": 118784,
     "status": "ok",
     "timestamp": 1741536660863,
     "user": {
      "displayName": "Himanshu Tahelyani",
      "userId": "02216693148548812411"
     },
     "user_tz": 240
    },
    "id": "p6SkGBUDqqN6",
    "outputId": "9c7331e1-087d-41ac-9a56-2fdf2add6c74"
   },
   "outputs": [
    {
     "name": "stdout",
     "output_type": "stream",
     "text": [
      "Requirement already satisfied: sentence-transformers in /usr/local/lib/python3.11/dist-packages (3.4.1)\n",
      "Requirement already satisfied: transformers<5.0.0,>=4.41.0 in /usr/local/lib/python3.11/dist-packages (from sentence-transformers) (4.48.3)\n",
      "Requirement already satisfied: tqdm in /usr/local/lib/python3.11/dist-packages (from sentence-transformers) (4.67.1)\n",
      "Requirement already satisfied: torch>=1.11.0 in /usr/local/lib/python3.11/dist-packages (from sentence-transformers) (2.5.1+cu124)\n",
      "Requirement already satisfied: scikit-learn in /usr/local/lib/python3.11/dist-packages (from sentence-transformers) (1.6.1)\n",
      "Requirement already satisfied: scipy in /usr/local/lib/python3.11/dist-packages (from sentence-transformers) (1.13.1)\n",
      "Requirement already satisfied: huggingface-hub>=0.20.0 in /usr/local/lib/python3.11/dist-packages (from sentence-transformers) (0.28.1)\n",
      "Requirement already satisfied: Pillow in /usr/local/lib/python3.11/dist-packages (from sentence-transformers) (11.1.0)\n",
      "Requirement already satisfied: filelock in /usr/local/lib/python3.11/dist-packages (from huggingface-hub>=0.20.0->sentence-transformers) (3.17.0)\n",
      "Requirement already satisfied: fsspec>=2023.5.0 in /usr/local/lib/python3.11/dist-packages (from huggingface-hub>=0.20.0->sentence-transformers) (2024.10.0)\n",
      "Requirement already satisfied: packaging>=20.9 in /usr/local/lib/python3.11/dist-packages (from huggingface-hub>=0.20.0->sentence-transformers) (24.2)\n",
      "Requirement already satisfied: pyyaml>=5.1 in /usr/local/lib/python3.11/dist-packages (from huggingface-hub>=0.20.0->sentence-transformers) (6.0.2)\n",
      "Requirement already satisfied: requests in /usr/local/lib/python3.11/dist-packages (from huggingface-hub>=0.20.0->sentence-transformers) (2.32.3)\n",
      "Requirement already satisfied: typing-extensions>=3.7.4.3 in /usr/local/lib/python3.11/dist-packages (from huggingface-hub>=0.20.0->sentence-transformers) (4.12.2)\n",
      "Requirement already satisfied: networkx in /usr/local/lib/python3.11/dist-packages (from torch>=1.11.0->sentence-transformers) (3.4.2)\n",
      "Requirement already satisfied: jinja2 in /usr/local/lib/python3.11/dist-packages (from torch>=1.11.0->sentence-transformers) (3.1.5)\n",
      "Collecting nvidia-cuda-nvrtc-cu12==12.4.127 (from torch>=1.11.0->sentence-transformers)\n",
      "  Downloading nvidia_cuda_nvrtc_cu12-12.4.127-py3-none-manylinux2014_x86_64.whl.metadata (1.5 kB)\n",
      "Collecting nvidia-cuda-runtime-cu12==12.4.127 (from torch>=1.11.0->sentence-transformers)\n",
      "  Downloading nvidia_cuda_runtime_cu12-12.4.127-py3-none-manylinux2014_x86_64.whl.metadata (1.5 kB)\n",
      "Collecting nvidia-cuda-cupti-cu12==12.4.127 (from torch>=1.11.0->sentence-transformers)\n",
      "  Downloading nvidia_cuda_cupti_cu12-12.4.127-py3-none-manylinux2014_x86_64.whl.metadata (1.6 kB)\n",
      "Collecting nvidia-cudnn-cu12==9.1.0.70 (from torch>=1.11.0->sentence-transformers)\n",
      "  Downloading nvidia_cudnn_cu12-9.1.0.70-py3-none-manylinux2014_x86_64.whl.metadata (1.6 kB)\n",
      "Collecting nvidia-cublas-cu12==12.4.5.8 (from torch>=1.11.0->sentence-transformers)\n",
      "  Downloading nvidia_cublas_cu12-12.4.5.8-py3-none-manylinux2014_x86_64.whl.metadata (1.5 kB)\n",
      "Collecting nvidia-cufft-cu12==11.2.1.3 (from torch>=1.11.0->sentence-transformers)\n",
      "  Downloading nvidia_cufft_cu12-11.2.1.3-py3-none-manylinux2014_x86_64.whl.metadata (1.5 kB)\n",
      "Collecting nvidia-curand-cu12==10.3.5.147 (from torch>=1.11.0->sentence-transformers)\n",
      "  Downloading nvidia_curand_cu12-10.3.5.147-py3-none-manylinux2014_x86_64.whl.metadata (1.5 kB)\n",
      "Collecting nvidia-cusolver-cu12==11.6.1.9 (from torch>=1.11.0->sentence-transformers)\n",
      "  Downloading nvidia_cusolver_cu12-11.6.1.9-py3-none-manylinux2014_x86_64.whl.metadata (1.6 kB)\n",
      "Collecting nvidia-cusparse-cu12==12.3.1.170 (from torch>=1.11.0->sentence-transformers)\n",
      "  Downloading nvidia_cusparse_cu12-12.3.1.170-py3-none-manylinux2014_x86_64.whl.metadata (1.6 kB)\n",
      "Requirement already satisfied: nvidia-nccl-cu12==2.21.5 in /usr/local/lib/python3.11/dist-packages (from torch>=1.11.0->sentence-transformers) (2.21.5)\n",
      "Requirement already satisfied: nvidia-nvtx-cu12==12.4.127 in /usr/local/lib/python3.11/dist-packages (from torch>=1.11.0->sentence-transformers) (12.4.127)\n",
      "Collecting nvidia-nvjitlink-cu12==12.4.127 (from torch>=1.11.0->sentence-transformers)\n",
      "  Downloading nvidia_nvjitlink_cu12-12.4.127-py3-none-manylinux2014_x86_64.whl.metadata (1.5 kB)\n",
      "Requirement already satisfied: triton==3.1.0 in /usr/local/lib/python3.11/dist-packages (from torch>=1.11.0->sentence-transformers) (3.1.0)\n",
      "Requirement already satisfied: sympy==1.13.1 in /usr/local/lib/python3.11/dist-packages (from torch>=1.11.0->sentence-transformers) (1.13.1)\n",
      "Requirement already satisfied: mpmath<1.4,>=1.1.0 in /usr/local/lib/python3.11/dist-packages (from sympy==1.13.1->torch>=1.11.0->sentence-transformers) (1.3.0)\n",
      "Requirement already satisfied: numpy>=1.17 in /usr/local/lib/python3.11/dist-packages (from transformers<5.0.0,>=4.41.0->sentence-transformers) (1.26.4)\n",
      "Requirement already satisfied: regex!=2019.12.17 in /usr/local/lib/python3.11/dist-packages (from transformers<5.0.0,>=4.41.0->sentence-transformers) (2024.11.6)\n",
      "Requirement already satisfied: tokenizers<0.22,>=0.21 in /usr/local/lib/python3.11/dist-packages (from transformers<5.0.0,>=4.41.0->sentence-transformers) (0.21.0)\n",
      "Requirement already satisfied: safetensors>=0.4.1 in /usr/local/lib/python3.11/dist-packages (from transformers<5.0.0,>=4.41.0->sentence-transformers) (0.5.3)\n",
      "Requirement already satisfied: joblib>=1.2.0 in /usr/local/lib/python3.11/dist-packages (from scikit-learn->sentence-transformers) (1.4.2)\n",
      "Requirement already satisfied: threadpoolctl>=3.1.0 in /usr/local/lib/python3.11/dist-packages (from scikit-learn->sentence-transformers) (3.5.0)\n",
      "Requirement already satisfied: MarkupSafe>=2.0 in /usr/local/lib/python3.11/dist-packages (from jinja2->torch>=1.11.0->sentence-transformers) (3.0.2)\n",
      "Requirement already satisfied: charset-normalizer<4,>=2 in /usr/local/lib/python3.11/dist-packages (from requests->huggingface-hub>=0.20.0->sentence-transformers) (3.4.1)\n",
      "Requirement already satisfied: idna<4,>=2.5 in /usr/local/lib/python3.11/dist-packages (from requests->huggingface-hub>=0.20.0->sentence-transformers) (3.10)\n",
      "Requirement already satisfied: urllib3<3,>=1.21.1 in /usr/local/lib/python3.11/dist-packages (from requests->huggingface-hub>=0.20.0->sentence-transformers) (2.3.0)\n",
      "Requirement already satisfied: certifi>=2017.4.17 in /usr/local/lib/python3.11/dist-packages (from requests->huggingface-hub>=0.20.0->sentence-transformers) (2025.1.31)\n",
      "Downloading nvidia_cublas_cu12-12.4.5.8-py3-none-manylinux2014_x86_64.whl (363.4 MB)\n",
      "\u001b[2K   \u001b[90m━━━━━━━━━━━━━━━━━━━━━━━━━━━━━━━━━━━━━━━━\u001b[0m \u001b[32m363.4/363.4 MB\u001b[0m \u001b[31m1.4 MB/s\u001b[0m eta \u001b[36m0:00:00\u001b[0m\n",
      "\u001b[?25hDownloading nvidia_cuda_cupti_cu12-12.4.127-py3-none-manylinux2014_x86_64.whl (13.8 MB)\n",
      "\u001b[2K   \u001b[90m━━━━━━━━━━━━━━━━━━━━━━━━━━━━━━━━━━━━━━━━\u001b[0m \u001b[32m13.8/13.8 MB\u001b[0m \u001b[31m93.5 MB/s\u001b[0m eta \u001b[36m0:00:00\u001b[0m\n",
      "\u001b[?25hDownloading nvidia_cuda_nvrtc_cu12-12.4.127-py3-none-manylinux2014_x86_64.whl (24.6 MB)\n",
      "\u001b[2K   \u001b[90m━━━━━━━━━━━━━━━━━━━━━━━━━━━━━━━━━━━━━━━━\u001b[0m \u001b[32m24.6/24.6 MB\u001b[0m \u001b[31m68.3 MB/s\u001b[0m eta \u001b[36m0:00:00\u001b[0m\n",
      "\u001b[?25hDownloading nvidia_cuda_runtime_cu12-12.4.127-py3-none-manylinux2014_x86_64.whl (883 kB)\n",
      "\u001b[2K   \u001b[90m━━━━━━━━━━━━━━━━━━━━━━━━━━━━━━━━━━━━━━━━\u001b[0m \u001b[32m883.7/883.7 kB\u001b[0m \u001b[31m48.1 MB/s\u001b[0m eta \u001b[36m0:00:00\u001b[0m\n",
      "\u001b[?25hDownloading nvidia_cudnn_cu12-9.1.0.70-py3-none-manylinux2014_x86_64.whl (664.8 MB)\n",
      "\u001b[2K   \u001b[90m━━━━━━━━━━━━━━━━━━━━━━━━━━━━━━━━━━━━━━━━\u001b[0m \u001b[32m664.8/664.8 MB\u001b[0m \u001b[31m830.9 kB/s\u001b[0m eta \u001b[36m0:00:00\u001b[0m\n",
      "\u001b[?25hDownloading nvidia_cufft_cu12-11.2.1.3-py3-none-manylinux2014_x86_64.whl (211.5 MB)\n",
      "\u001b[2K   \u001b[90m━━━━━━━━━━━━━━━━━━━━━━━━━━━━━━━━━━━━━━━━\u001b[0m \u001b[32m211.5/211.5 MB\u001b[0m \u001b[31m3.6 MB/s\u001b[0m eta \u001b[36m0:00:00\u001b[0m\n",
      "\u001b[?25hDownloading nvidia_curand_cu12-10.3.5.147-py3-none-manylinux2014_x86_64.whl (56.3 MB)\n",
      "\u001b[2K   \u001b[90m━━━━━━━━━━━━━━━━━━━━━━━━━━━━━━━━━━━━━━━━\u001b[0m \u001b[32m56.3/56.3 MB\u001b[0m \u001b[31m14.1 MB/s\u001b[0m eta \u001b[36m0:00:00\u001b[0m\n",
      "\u001b[?25hDownloading nvidia_cusolver_cu12-11.6.1.9-py3-none-manylinux2014_x86_64.whl (127.9 MB)\n",
      "\u001b[2K   \u001b[90m━━━━━━━━━━━━━━━━━━━━━━━━━━━━━━━━━━━━━━━━\u001b[0m \u001b[32m127.9/127.9 MB\u001b[0m \u001b[31m7.7 MB/s\u001b[0m eta \u001b[36m0:00:00\u001b[0m\n",
      "\u001b[?25hDownloading nvidia_cusparse_cu12-12.3.1.170-py3-none-manylinux2014_x86_64.whl (207.5 MB)\n",
      "\u001b[2K   \u001b[90m━━━━━━━━━━━━━━━━━━━━━━━━━━━━━━━━━━━━━━━━\u001b[0m \u001b[32m207.5/207.5 MB\u001b[0m \u001b[31m6.0 MB/s\u001b[0m eta \u001b[36m0:00:00\u001b[0m\n",
      "\u001b[?25hDownloading nvidia_nvjitlink_cu12-12.4.127-py3-none-manylinux2014_x86_64.whl (21.1 MB)\n",
      "\u001b[2K   \u001b[90m━━━━━━━━━━━━━━━━━━━━━━━━━━━━━━━━━━━━━━━━\u001b[0m \u001b[32m21.1/21.1 MB\u001b[0m \u001b[31m32.4 MB/s\u001b[0m eta \u001b[36m0:00:00\u001b[0m\n",
      "\u001b[?25hInstalling collected packages: nvidia-nvjitlink-cu12, nvidia-curand-cu12, nvidia-cufft-cu12, nvidia-cuda-runtime-cu12, nvidia-cuda-nvrtc-cu12, nvidia-cuda-cupti-cu12, nvidia-cublas-cu12, nvidia-cusparse-cu12, nvidia-cudnn-cu12, nvidia-cusolver-cu12\n",
      "  Attempting uninstall: nvidia-nvjitlink-cu12\n",
      "    Found existing installation: nvidia-nvjitlink-cu12 12.5.82\n",
      "    Uninstalling nvidia-nvjitlink-cu12-12.5.82:\n",
      "      Successfully uninstalled nvidia-nvjitlink-cu12-12.5.82\n",
      "  Attempting uninstall: nvidia-curand-cu12\n",
      "    Found existing installation: nvidia-curand-cu12 10.3.6.82\n",
      "    Uninstalling nvidia-curand-cu12-10.3.6.82:\n",
      "      Successfully uninstalled nvidia-curand-cu12-10.3.6.82\n",
      "  Attempting uninstall: nvidia-cufft-cu12\n",
      "    Found existing installation: nvidia-cufft-cu12 11.2.3.61\n",
      "    Uninstalling nvidia-cufft-cu12-11.2.3.61:\n",
      "      Successfully uninstalled nvidia-cufft-cu12-11.2.3.61\n",
      "  Attempting uninstall: nvidia-cuda-runtime-cu12\n",
      "    Found existing installation: nvidia-cuda-runtime-cu12 12.5.82\n",
      "    Uninstalling nvidia-cuda-runtime-cu12-12.5.82:\n",
      "      Successfully uninstalled nvidia-cuda-runtime-cu12-12.5.82\n",
      "  Attempting uninstall: nvidia-cuda-nvrtc-cu12\n",
      "    Found existing installation: nvidia-cuda-nvrtc-cu12 12.5.82\n",
      "    Uninstalling nvidia-cuda-nvrtc-cu12-12.5.82:\n",
      "      Successfully uninstalled nvidia-cuda-nvrtc-cu12-12.5.82\n",
      "  Attempting uninstall: nvidia-cuda-cupti-cu12\n",
      "    Found existing installation: nvidia-cuda-cupti-cu12 12.5.82\n",
      "    Uninstalling nvidia-cuda-cupti-cu12-12.5.82:\n",
      "      Successfully uninstalled nvidia-cuda-cupti-cu12-12.5.82\n",
      "  Attempting uninstall: nvidia-cublas-cu12\n",
      "    Found existing installation: nvidia-cublas-cu12 12.5.3.2\n",
      "    Uninstalling nvidia-cublas-cu12-12.5.3.2:\n",
      "      Successfully uninstalled nvidia-cublas-cu12-12.5.3.2\n",
      "  Attempting uninstall: nvidia-cusparse-cu12\n",
      "    Found existing installation: nvidia-cusparse-cu12 12.5.1.3\n",
      "    Uninstalling nvidia-cusparse-cu12-12.5.1.3:\n",
      "      Successfully uninstalled nvidia-cusparse-cu12-12.5.1.3\n",
      "  Attempting uninstall: nvidia-cudnn-cu12\n",
      "    Found existing installation: nvidia-cudnn-cu12 9.3.0.75\n",
      "    Uninstalling nvidia-cudnn-cu12-9.3.0.75:\n",
      "      Successfully uninstalled nvidia-cudnn-cu12-9.3.0.75\n",
      "  Attempting uninstall: nvidia-cusolver-cu12\n",
      "    Found existing installation: nvidia-cusolver-cu12 11.6.3.83\n",
      "    Uninstalling nvidia-cusolver-cu12-11.6.3.83:\n",
      "      Successfully uninstalled nvidia-cusolver-cu12-11.6.3.83\n",
      "Successfully installed nvidia-cublas-cu12-12.4.5.8 nvidia-cuda-cupti-cu12-12.4.127 nvidia-cuda-nvrtc-cu12-12.4.127 nvidia-cuda-runtime-cu12-12.4.127 nvidia-cudnn-cu12-9.1.0.70 nvidia-cufft-cu12-11.2.1.3 nvidia-curand-cu12-10.3.5.147 nvidia-cusolver-cu12-11.6.1.9 nvidia-cusparse-cu12-12.3.1.170 nvidia-nvjitlink-cu12-12.4.127\n"
     ]
    }
   ],
   "source": [
    "!pip install sentence-transformers"
   ]
  },
  {
   "cell_type": "code",
   "execution_count": 8,
   "metadata": {
    "executionInfo": {
     "elapsed": 2,
     "status": "ok",
     "timestamp": 1741540931601,
     "user": {
      "displayName": "Himanshu Tahelyani",
      "userId": "02216693148548812411"
     },
     "user_tz": 240
    },
    "id": "CPGxhCrI7bJj"
   },
   "outputs": [],
   "source": [
    "device = torch.device(\"cuda\" if torch.cuda.is_available() else \"cpu\")"
   ]
  },
  {
   "cell_type": "code",
   "execution_count": 10,
   "metadata": {
    "collapsed": true,
    "executionInfo": {
     "elapsed": 155,
     "status": "ok",
     "timestamp": 1741540938474,
     "user": {
      "displayName": "Himanshu Tahelyani",
      "userId": "02216693148548812411"
     },
     "user_tz": 240
    },
    "id": "xcu4YIxIh5u6"
   },
   "outputs": [],
   "source": [
    "from sentence_transformers import SentenceTransformer\n",
    "from torch.utils.data import Dataset\n",
    "import pandas as pd\n",
    "import numpy as np\n",
    "import faiss\n",
    "import os\n",
    "import json\n",
    "from torch.utils.data import Dataset\n",
    "from transformers import AutoModelForCausalLM, AutoTokenizer, pipeline\n",
    "import torch\n",
    "\n"
   ]
  },
  {
   "cell_type": "code",
   "execution_count": 7,
   "metadata": {
    "colab": {
     "base_uri": "https://localhost:8080/",
     "height": 1000
    },
    "collapsed": true,
    "executionInfo": {
     "elapsed": 119621,
     "status": "ok",
     "timestamp": 1741536833785,
     "user": {
      "displayName": "Himanshu Tahelyani",
      "userId": "02216693148548812411"
     },
     "user_tz": 240
    },
    "id": "5ZpEKHhxrU__",
    "outputId": "7b7c06e9-8ec1-488e-dd8e-dbcd10a1f473"
   },
   "outputs": [
    {
     "name": "stdout",
     "output_type": "stream",
     "text": [
      "Requirement already satisfied: torch in /usr/local/lib/python3.11/dist-packages (2.5.1+cu124)\n",
      "Collecting torch\n",
      "  Downloading torch-2.6.0-cp311-cp311-manylinux1_x86_64.whl.metadata (28 kB)\n",
      "Requirement already satisfied: transformers in /usr/local/lib/python3.11/dist-packages (4.48.3)\n",
      "Collecting transformers\n",
      "  Downloading transformers-4.49.0-py3-none-any.whl.metadata (44 kB)\n",
      "\u001b[2K     \u001b[90m━━━━━━━━━━━━━━━━━━━━━━━━━━━━━━━━━━━━━━━━\u001b[0m \u001b[32m44.0/44.0 kB\u001b[0m \u001b[31m3.7 MB/s\u001b[0m eta \u001b[36m0:00:00\u001b[0m\n",
      "\u001b[?25hRequirement already satisfied: filelock in /usr/local/lib/python3.11/dist-packages (from torch) (3.17.0)\n",
      "Requirement already satisfied: typing-extensions>=4.10.0 in /usr/local/lib/python3.11/dist-packages (from torch) (4.12.2)\n",
      "Requirement already satisfied: networkx in /usr/local/lib/python3.11/dist-packages (from torch) (3.4.2)\n",
      "Requirement already satisfied: jinja2 in /usr/local/lib/python3.11/dist-packages (from torch) (3.1.5)\n",
      "Requirement already satisfied: fsspec in /usr/local/lib/python3.11/dist-packages (from torch) (2024.10.0)\n",
      "Requirement already satisfied: nvidia-cuda-nvrtc-cu12==12.4.127 in /usr/local/lib/python3.11/dist-packages (from torch) (12.4.127)\n",
      "Requirement already satisfied: nvidia-cuda-runtime-cu12==12.4.127 in /usr/local/lib/python3.11/dist-packages (from torch) (12.4.127)\n",
      "Requirement already satisfied: nvidia-cuda-cupti-cu12==12.4.127 in /usr/local/lib/python3.11/dist-packages (from torch) (12.4.127)\n",
      "Requirement already satisfied: nvidia-cudnn-cu12==9.1.0.70 in /usr/local/lib/python3.11/dist-packages (from torch) (9.1.0.70)\n",
      "Requirement already satisfied: nvidia-cublas-cu12==12.4.5.8 in /usr/local/lib/python3.11/dist-packages (from torch) (12.4.5.8)\n",
      "Requirement already satisfied: nvidia-cufft-cu12==11.2.1.3 in /usr/local/lib/python3.11/dist-packages (from torch) (11.2.1.3)\n",
      "Requirement already satisfied: nvidia-curand-cu12==10.3.5.147 in /usr/local/lib/python3.11/dist-packages (from torch) (10.3.5.147)\n",
      "Requirement already satisfied: nvidia-cusolver-cu12==11.6.1.9 in /usr/local/lib/python3.11/dist-packages (from torch) (11.6.1.9)\n",
      "Requirement already satisfied: nvidia-cusparse-cu12==12.3.1.170 in /usr/local/lib/python3.11/dist-packages (from torch) (12.3.1.170)\n",
      "Collecting nvidia-cusparselt-cu12==0.6.2 (from torch)\n",
      "  Downloading nvidia_cusparselt_cu12-0.6.2-py3-none-manylinux2014_x86_64.whl.metadata (6.8 kB)\n",
      "Requirement already satisfied: nvidia-nccl-cu12==2.21.5 in /usr/local/lib/python3.11/dist-packages (from torch) (2.21.5)\n",
      "Requirement already satisfied: nvidia-nvtx-cu12==12.4.127 in /usr/local/lib/python3.11/dist-packages (from torch) (12.4.127)\n",
      "Requirement already satisfied: nvidia-nvjitlink-cu12==12.4.127 in /usr/local/lib/python3.11/dist-packages (from torch) (12.4.127)\n",
      "Collecting triton==3.2.0 (from torch)\n",
      "  Downloading triton-3.2.0-cp311-cp311-manylinux_2_17_x86_64.manylinux2014_x86_64.whl.metadata (1.4 kB)\n",
      "Requirement already satisfied: sympy==1.13.1 in /usr/local/lib/python3.11/dist-packages (from torch) (1.13.1)\n",
      "Requirement already satisfied: mpmath<1.4,>=1.1.0 in /usr/local/lib/python3.11/dist-packages (from sympy==1.13.1->torch) (1.3.0)\n",
      "Requirement already satisfied: huggingface-hub<1.0,>=0.26.0 in /usr/local/lib/python3.11/dist-packages (from transformers) (0.28.1)\n",
      "Requirement already satisfied: numpy>=1.17 in /usr/local/lib/python3.11/dist-packages (from transformers) (1.26.4)\n",
      "Requirement already satisfied: packaging>=20.0 in /usr/local/lib/python3.11/dist-packages (from transformers) (24.2)\n",
      "Requirement already satisfied: pyyaml>=5.1 in /usr/local/lib/python3.11/dist-packages (from transformers) (6.0.2)\n",
      "Requirement already satisfied: regex!=2019.12.17 in /usr/local/lib/python3.11/dist-packages (from transformers) (2024.11.6)\n",
      "Requirement already satisfied: requests in /usr/local/lib/python3.11/dist-packages (from transformers) (2.32.3)\n",
      "Requirement already satisfied: tokenizers<0.22,>=0.21 in /usr/local/lib/python3.11/dist-packages (from transformers) (0.21.0)\n",
      "Requirement already satisfied: safetensors>=0.4.1 in /usr/local/lib/python3.11/dist-packages (from transformers) (0.5.3)\n",
      "Requirement already satisfied: tqdm>=4.27 in /usr/local/lib/python3.11/dist-packages (from transformers) (4.67.1)\n",
      "Requirement already satisfied: MarkupSafe>=2.0 in /usr/local/lib/python3.11/dist-packages (from jinja2->torch) (3.0.2)\n",
      "Requirement already satisfied: charset-normalizer<4,>=2 in /usr/local/lib/python3.11/dist-packages (from requests->transformers) (3.4.1)\n",
      "Requirement already satisfied: idna<4,>=2.5 in /usr/local/lib/python3.11/dist-packages (from requests->transformers) (3.10)\n",
      "Requirement already satisfied: urllib3<3,>=1.21.1 in /usr/local/lib/python3.11/dist-packages (from requests->transformers) (2.3.0)\n",
      "Requirement already satisfied: certifi>=2017.4.17 in /usr/local/lib/python3.11/dist-packages (from requests->transformers) (2025.1.31)\n",
      "Downloading torch-2.6.0-cp311-cp311-manylinux1_x86_64.whl (766.7 MB)\n",
      "\u001b[2K   \u001b[90m━━━━━━━━━━━━━━━━━━━━━━━━━━━━━━━━━━━━━━━━\u001b[0m \u001b[32m766.7/766.7 MB\u001b[0m \u001b[31m2.5 MB/s\u001b[0m eta \u001b[36m0:00:00\u001b[0m\n",
      "\u001b[?25hDownloading nvidia_cusparselt_cu12-0.6.2-py3-none-manylinux2014_x86_64.whl (150.1 MB)\n",
      "\u001b[2K   \u001b[90m━━━━━━━━━━━━━━━━━━━━━━━━━━━━━━━━━━━━━━━━\u001b[0m \u001b[32m150.1/150.1 MB\u001b[0m \u001b[31m6.8 MB/s\u001b[0m eta \u001b[36m0:00:00\u001b[0m\n",
      "\u001b[?25hDownloading triton-3.2.0-cp311-cp311-manylinux_2_17_x86_64.manylinux2014_x86_64.whl (253.2 MB)\n",
      "\u001b[2K   \u001b[90m━━━━━━━━━━━━━━━━━━━━━━━━━━━━━━━━━━━━━━━━\u001b[0m \u001b[32m253.2/253.2 MB\u001b[0m \u001b[31m5.2 MB/s\u001b[0m eta \u001b[36m0:00:00\u001b[0m\n",
      "\u001b[?25hDownloading transformers-4.49.0-py3-none-any.whl (10.0 MB)\n",
      "\u001b[2K   \u001b[90m━━━━━━━━━━━━━━━━━━━━━━━━━━━━━━━━━━━━━━━━\u001b[0m \u001b[32m10.0/10.0 MB\u001b[0m \u001b[31m101.8 MB/s\u001b[0m eta \u001b[36m0:00:00\u001b[0m\n",
      "\u001b[?25hInstalling collected packages: triton, nvidia-cusparselt-cu12, torch, transformers\n",
      "  Attempting uninstall: triton\n",
      "    Found existing installation: triton 3.1.0\n",
      "    Uninstalling triton-3.1.0:\n",
      "      Successfully uninstalled triton-3.1.0\n",
      "  Attempting uninstall: torch\n",
      "    Found existing installation: torch 2.5.1+cu124\n",
      "    Uninstalling torch-2.5.1+cu124:\n",
      "      Successfully uninstalled torch-2.5.1+cu124\n",
      "  Attempting uninstall: transformers\n",
      "    Found existing installation: transformers 4.48.3\n",
      "    Uninstalling transformers-4.48.3:\n",
      "      Successfully uninstalled transformers-4.48.3\n",
      "\u001b[31mERROR: pip's dependency resolver does not currently take into account all the packages that are installed. This behaviour is the source of the following dependency conflicts.\n",
      "torchvision 0.20.1+cu124 requires torch==2.5.1, but you have torch 2.6.0 which is incompatible.\n",
      "torchaudio 2.5.1+cu124 requires torch==2.5.1, but you have torch 2.6.0 which is incompatible.\n",
      "fastai 2.7.18 requires torch<2.6,>=1.10, but you have torch 2.6.0 which is incompatible.\u001b[0m\u001b[31m\n",
      "\u001b[0mSuccessfully installed nvidia-cusparselt-cu12-0.6.2 torch-2.6.0 transformers-4.49.0 triton-3.2.0\n"
     ]
    },
    {
     "data": {
      "application/vnd.colab-display-data+json": {
       "id": "a3b8936042b542fa9fe6b214459c8b99",
       "pip_warning": {
        "packages": [
         "torch",
         "torchgen",
         "transformers",
         "triton"
        ]
       }
      }
     },
     "metadata": {},
     "output_type": "display_data"
    }
   ],
   "source": [
    "!pip install --upgrade torch transformers\n"
   ]
  },
  {
   "cell_type": "code",
   "execution_count": 2,
   "metadata": {
    "colab": {
     "base_uri": "https://localhost:8080/"
    },
    "collapsed": true,
    "executionInfo": {
     "elapsed": 8165,
     "status": "ok",
     "timestamp": 1741536914054,
     "user": {
      "displayName": "Himanshu Tahelyani",
      "userId": "02216693148548812411"
     },
     "user_tz": 240
    },
    "id": "fq0mLvKvsEF2",
    "outputId": "d62f71ff-cc82-4f06-f0d5-83961c35eefd"
   },
   "outputs": [
    {
     "name": "stdout",
     "output_type": "stream",
     "text": [
      "Requirement already satisfied: torch in /usr/local/lib/python3.11/dist-packages (2.6.0)\n",
      "Requirement already satisfied: torchvision in /usr/local/lib/python3.11/dist-packages (0.20.1+cu124)\n",
      "Collecting torchvision\n",
      "  Downloading torchvision-0.21.0-cp311-cp311-manylinux1_x86_64.whl.metadata (6.1 kB)\n",
      "Requirement already satisfied: filelock in /usr/local/lib/python3.11/dist-packages (from torch) (3.17.0)\n",
      "Requirement already satisfied: typing-extensions>=4.10.0 in /usr/local/lib/python3.11/dist-packages (from torch) (4.12.2)\n",
      "Requirement already satisfied: networkx in /usr/local/lib/python3.11/dist-packages (from torch) (3.4.2)\n",
      "Requirement already satisfied: jinja2 in /usr/local/lib/python3.11/dist-packages (from torch) (3.1.5)\n",
      "Requirement already satisfied: fsspec in /usr/local/lib/python3.11/dist-packages (from torch) (2024.10.0)\n",
      "Requirement already satisfied: nvidia-cuda-nvrtc-cu12==12.4.127 in /usr/local/lib/python3.11/dist-packages (from torch) (12.4.127)\n",
      "Requirement already satisfied: nvidia-cuda-runtime-cu12==12.4.127 in /usr/local/lib/python3.11/dist-packages (from torch) (12.4.127)\n",
      "Requirement already satisfied: nvidia-cuda-cupti-cu12==12.4.127 in /usr/local/lib/python3.11/dist-packages (from torch) (12.4.127)\n",
      "Requirement already satisfied: nvidia-cudnn-cu12==9.1.0.70 in /usr/local/lib/python3.11/dist-packages (from torch) (9.1.0.70)\n",
      "Requirement already satisfied: nvidia-cublas-cu12==12.4.5.8 in /usr/local/lib/python3.11/dist-packages (from torch) (12.4.5.8)\n",
      "Requirement already satisfied: nvidia-cufft-cu12==11.2.1.3 in /usr/local/lib/python3.11/dist-packages (from torch) (11.2.1.3)\n",
      "Requirement already satisfied: nvidia-curand-cu12==10.3.5.147 in /usr/local/lib/python3.11/dist-packages (from torch) (10.3.5.147)\n",
      "Requirement already satisfied: nvidia-cusolver-cu12==11.6.1.9 in /usr/local/lib/python3.11/dist-packages (from torch) (11.6.1.9)\n",
      "Requirement already satisfied: nvidia-cusparse-cu12==12.3.1.170 in /usr/local/lib/python3.11/dist-packages (from torch) (12.3.1.170)\n",
      "Requirement already satisfied: nvidia-cusparselt-cu12==0.6.2 in /usr/local/lib/python3.11/dist-packages (from torch) (0.6.2)\n",
      "Requirement already satisfied: nvidia-nccl-cu12==2.21.5 in /usr/local/lib/python3.11/dist-packages (from torch) (2.21.5)\n",
      "Requirement already satisfied: nvidia-nvtx-cu12==12.4.127 in /usr/local/lib/python3.11/dist-packages (from torch) (12.4.127)\n",
      "Requirement already satisfied: nvidia-nvjitlink-cu12==12.4.127 in /usr/local/lib/python3.11/dist-packages (from torch) (12.4.127)\n",
      "Requirement already satisfied: triton==3.2.0 in /usr/local/lib/python3.11/dist-packages (from torch) (3.2.0)\n",
      "Requirement already satisfied: sympy==1.13.1 in /usr/local/lib/python3.11/dist-packages (from torch) (1.13.1)\n",
      "Requirement already satisfied: mpmath<1.4,>=1.1.0 in /usr/local/lib/python3.11/dist-packages (from sympy==1.13.1->torch) (1.3.0)\n",
      "Requirement already satisfied: numpy in /usr/local/lib/python3.11/dist-packages (from torchvision) (1.26.4)\n",
      "Requirement already satisfied: pillow!=8.3.*,>=5.3.0 in /usr/local/lib/python3.11/dist-packages (from torchvision) (11.1.0)\n",
      "Requirement already satisfied: MarkupSafe>=2.0 in /usr/local/lib/python3.11/dist-packages (from jinja2->torch) (3.0.2)\n",
      "Downloading torchvision-0.21.0-cp311-cp311-manylinux1_x86_64.whl (7.2 MB)\n",
      "\u001b[2K   \u001b[90m━━━━━━━━━━━━━━━━━━━━━━━━━━━━━━━━━━━━━━━━\u001b[0m \u001b[32m7.2/7.2 MB\u001b[0m \u001b[31m45.1 MB/s\u001b[0m eta \u001b[36m0:00:00\u001b[0m\n",
      "\u001b[?25hInstalling collected packages: torchvision\n",
      "  Attempting uninstall: torchvision\n",
      "    Found existing installation: torchvision 0.20.1+cu124\n",
      "    Uninstalling torchvision-0.20.1+cu124:\n",
      "      Successfully uninstalled torchvision-0.20.1+cu124\n",
      "\u001b[31mERROR: pip's dependency resolver does not currently take into account all the packages that are installed. This behaviour is the source of the following dependency conflicts.\n",
      "fastai 2.7.18 requires torch<2.6,>=1.10, but you have torch 2.6.0 which is incompatible.\u001b[0m\u001b[31m\n",
      "\u001b[0mSuccessfully installed torchvision-0.21.0\n"
     ]
    }
   ],
   "source": [
    "!pip install --upgrade torch torchvision\n"
   ]
  },
  {
   "cell_type": "code",
   "execution_count": 7,
   "metadata": {
    "colab": {
     "base_uri": "https://localhost:8080/"
    },
    "executionInfo": {
     "elapsed": 5856,
     "status": "ok",
     "timestamp": 1741540890493,
     "user": {
      "displayName": "Himanshu Tahelyani",
      "userId": "02216693148548812411"
     },
     "user_tz": 240
    },
    "id": "oH2Y3v2MifLM",
    "outputId": "eded46bb-a60d-495f-bc3b-78a6249b642a"
   },
   "outputs": [
    {
     "name": "stdout",
     "output_type": "stream",
     "text": [
      "Collecting faiss-cpu\n",
      "  Downloading faiss_cpu-1.10.0-cp311-cp311-manylinux_2_28_x86_64.whl.metadata (4.4 kB)\n",
      "Requirement already satisfied: numpy<3.0,>=1.25.0 in /usr/local/lib/python3.11/dist-packages (from faiss-cpu) (1.26.4)\n",
      "Requirement already satisfied: packaging in /usr/local/lib/python3.11/dist-packages (from faiss-cpu) (24.2)\n",
      "Downloading faiss_cpu-1.10.0-cp311-cp311-manylinux_2_28_x86_64.whl (30.7 MB)\n",
      "\u001b[2K   \u001b[90m━━━━━━━━━━━━━━━━━━━━━━━━━━━━━━━━━━━━━━━━\u001b[0m \u001b[32m30.7/30.7 MB\u001b[0m \u001b[31m47.9 MB/s\u001b[0m eta \u001b[36m0:00:00\u001b[0m\n",
      "\u001b[?25hInstalling collected packages: faiss-cpu\n",
      "Successfully installed faiss-cpu-1.10.0\n"
     ]
    }
   ],
   "source": [
    "!pip install faiss-cpu\n"
   ]
  },
  {
   "cell_type": "code",
   "execution_count": 3,
   "metadata": {
    "colab": {
     "base_uri": "https://localhost:8080/"
    },
    "executionInfo": {
     "elapsed": 148,
     "status": "ok",
     "timestamp": 1741540716472,
     "user": {
      "displayName": "Himanshu Tahelyani",
      "userId": "02216693148548812411"
     },
     "user_tz": 240
    },
    "id": "seEASThk6mlt",
    "outputId": "73872376-e1ae-48e3-cf07-4314c3a510d9"
   },
   "outputs": [
    {
     "name": "stdout",
     "output_type": "stream",
     "text": [
      "CUDA is available!\n",
      "Number of GPUs: 1\n",
      "GPU Name: Tesla T4\n"
     ]
    }
   ],
   "source": [
    "import torch\n",
    "\n",
    "if torch.cuda.is_available():\n",
    "    print(\"CUDA is available!\")\n",
    "    print(\"Number of GPUs:\", torch.cuda.device_count())\n",
    "    print(\"GPU Name:\", torch.cuda.get_device_name(0))\n",
    "else:\n",
    "    print(\"No GPU found!\")\n"
   ]
  },
  {
   "cell_type": "code",
   "execution_count": 11,
   "metadata": {
    "executionInfo": {
     "elapsed": 14,
     "status": "ok",
     "timestamp": 1741540943054,
     "user": {
      "displayName": "Himanshu Tahelyani",
      "userId": "02216693148548812411"
     },
     "user_tz": 240
    },
    "id": "fZDcWnbNh5u8"
   },
   "outputs": [],
   "source": [
    "class Retrieval:\n",
    "    \"\"\"\n",
    "    A class to perform similarity-based text retrieval using FAISS.\n",
    "\n",
    "    Attributes:\n",
    "        dataset (Embeddings): An instance of the Embeddings class containing text data and embeddings.\n",
    "        index (faiss.IndexFlatL2): FAISS index built using L2 distance for fast retrieval.\n",
    "    \"\"\"\n",
    "\n",
    "    def __init__(self, dataset):\n",
    "        \"\"\"\n",
    "        Initializes the Retrieval class by creating a FAISS index from the dataset's embeddings.\n",
    "\n",
    "        Args:\n",
    "            dataset (Embeddings): An instance of the Embeddings class containing text data and computed embeddings.\n",
    "        \"\"\"\n",
    "        self.dataset = dataset  # Store dataset instance\n",
    "        # Extract the embedding dimension from the dataset\n",
    "        embedding_dim = self.dataset.embeddings.shape[1]\n",
    "        # Create a FAISS index with L2 (Euclidean) distance for similarity search\n",
    "        self.index = faiss.IndexFlatL2(embedding_dim)\n",
    "        # Add dataset embeddings to the FAISS index\n",
    "        self.index.add(self.dataset.embeddings)\n",
    "\n",
    "    def search(self, query, k=1):\n",
    "        \"\"\"\n",
    "        Finds the top-k most relevant documents using FAISS similarity search.\n",
    "\n",
    "        Args:\n",
    "            query (str): The query text to search for similar entries.\n",
    "            k (int, optional): The number of top results to return. Defaults to 1.\n",
    "\n",
    "        Returns:\n",
    "            list or dict: If k=1, returns a single dictionary with 'title' and 'url'.\n",
    "                          If k>1, returns a list of such dictionaries.\n",
    "        \"\"\"\n",
    "        # Convert query text into an embedding\n",
    "        query_vector = self.dataset.get_embedding(query).reshape(1, -1)\n",
    "        # Search FAISS index for the k nearest neighbors\n",
    "        distances, indices = self.index.search(query_vector, k)\n",
    "        # Extract only 'url' and 'title' from the retrieved results\n",
    "        results = [\n",
    "            {\n",
    "                \"title\": self.dataset.data[i].get(\"title\", \"No Title\"),\n",
    "                \"url\": self.dataset.data[i].get(\"url\", \"No URL\"),\n",
    "                \"content\": self.dataset.data[i].get(\"content\", \"No Content\")\n",
    "            }\n",
    "            for i in indices[0] if i < len(self.dataset.data)  # Ensure index is valid\n",
    "        ]\n",
    "\n",
    "        return results if k > 1 else results[0]  # Return a list if k > 1, else return a single result"
   ]
  },
  {
   "cell_type": "code",
   "execution_count": 15,
   "metadata": {
    "collapsed": true,
    "executionInfo": {
     "elapsed": 7600,
     "status": "ok",
     "timestamp": 1741540990527,
     "user": {
      "displayName": "Himanshu Tahelyani",
      "userId": "02216693148548812411"
     },
     "user_tz": 240
    },
    "id": "spUci0W0h5u8"
   },
   "outputs": [],
   "source": [
    "\n",
    "dataset = Embeddings(\"json_input_data.json\")  # JSON file with a list of dictionaries\n"
   ]
  },
  {
   "cell_type": "code",
   "execution_count": 64,
   "metadata": {
    "executionInfo": {
     "elapsed": 92,
     "status": "ok",
     "timestamp": 1741542108635,
     "user": {
      "displayName": "Himanshu Tahelyani",
      "userId": "02216693148548812411"
     },
     "user_tz": 240
    },
    "id": "P7Cprk1Jh5u9"
   },
   "outputs": [],
   "source": [
    "retriever = Retrieval(dataset)  # Create a retrieval instance with the dataset\n",
    "query = \"Can i do a part time 20hr week internship or Coop?\"\n",
    "top_result = retriever.search(query, k=5)"
   ]
  },
  {
   "cell_type": "markdown",
   "metadata": {
    "id": "zxiR4BSC9pjh"
   },
   "source": []
  },
  {
   "cell_type": "code",
   "execution_count": 65,
   "metadata": {
    "executionInfo": {
     "elapsed": 16,
     "status": "ok",
     "timestamp": 1741542111196,
     "user": {
      "displayName": "Himanshu Tahelyani",
      "userId": "02216693148548812411"
     },
     "user_tz": 240
    },
    "id": "ZfaPWzRsh5u9"
   },
   "outputs": [],
   "source": [
    "combined_content = \"\"\n",
    "for result in top_result:\n",
    "  combined_content += result[\"content\"]"
   ]
  },
  {
   "cell_type": "code",
   "execution_count": 66,
   "metadata": {
    "colab": {
     "base_uri": "https://localhost:8080/"
    },
    "executionInfo": {
     "elapsed": 84,
     "status": "ok",
     "timestamp": 1741542111472,
     "user": {
      "displayName": "Himanshu Tahelyani",
      "userId": "02216693148548812411"
     },
     "user_tz": 240
    },
    "id": "8wmkGn-E8Vvt",
    "outputId": "4b12f02a-111f-44c7-ac79-3d1c9f0d0b17"
   },
   "outputs": [
    {
     "name": "stdout",
     "output_type": "stream",
     "text": [
      "Students Studying in \n",
      "\t\t\t\t\t\t\t\t\t\t\t\t\t\t\t\t\t\t\t\t\t\t\t\tThe United States Summer Term At Northeastern, classes run year-round. However, not all students are required or choose to study during the summer term. Whether you plan to study or travel, it is important to maintain your status in the summer. You can learn more below. Summer Enrollment at Northeastern During required academic terms, F-1 and J-1 students must maintain full-time enrollment and appropriate on-ground presence. While the summer term is considered a vacation term for most continuing students, some students are required to maintain full-time enrollment in the summer. Please read the following information carefully to make sure you understand your summer enrollment requirements. What summer terms are available at Northeastern? CPS Undergraduate students and School of Law Students Full Summer CPS Graduate Students Summer Quarter All other Undergraduate and Graduate students Full Summer Summer 1* Summer 2* *Degree-seeking students that are eligible to enroll in summer 1 only or summer 2 only may enroll in half of their typical full-time enrollment requirement (6 credits for undergraduate students and 4 credits for graduate students). When do students have to maintain full-time enrollment and on-ground presence during the summer? You are required to maintain full-time enrollment and on-ground presence during the summer term(s) if: It is your first term of enrollment at NU and you have an Initial or Transfer I-20/DS-2019 It is your first term of enrollment after an approved change of degree level (CDL) or change of status (COS) It is your final academic term It is required for all students in your degree program You are returning to NU after a leave of absence You are a PhD student receiving university funding (SGA, Fellowship, etc.) If you are required to maintain full-time enrollment during the summer term you must follow all requirements found on the Maintaining Status page of the OGS website If you are required to maintain full-time enrollment during the summer term and have been offered on-campus employment or have received a Stipended Graduate Assistantship (SGA) , you may not work more than 20 hours/week Summer enrollment in your first term If the summer term is your first term of enrollment at Northeastern, you are correcting status and have an Initial I-20/DS-2019, or it is your first term after an approved Change of Degree Level (CDL) or Change of Status (COS), you must maintain full-time enrollment and appropriate on-ground presence for the duration of the summer term(s). Enrollment in on-ground courses must occur during all parts of the term. Online-only enrollment or no enrollment during a part of term (first half/second half) is not an acceptable way to maintain nonimmigrant status Please note: If you are eligible to begin your program begin in summer 1 you are not eligible for a vacation period in summer 2 If your program begins in summer 2 (student athletes, Doctorate of Physical Therapy students, etc.), please consult directly with your academic advisor for requirements on full time enrollment You can maintain your F-1 or J-1 status according to the Guidelines on Maintaining Status provided by OGS. Summer enrollment in your final term If the summer is your final term of enrollment at Northeastern and you are not completing your program overseas, you must maintain full time enrollment with appropriate on-ground presence throughout the duration of your final term. Please note that students who are eligible to complete their program during summer 2 may elect to utilize summer 1 as a vacation term. F-1 Students eligible to complete their program in summer 1 : Your I-20 end date will be shortened to reflect the end of summer 1 J-1 Students eligible to complete their program in summer 1 : Your DS-2019 end date will be shortened to reflect the end of summer 1 if you do not plan to apply for post-completion Academic Training (AT) All CPS undergraduate students, CPS graduate students, and School of Law students completing in the summer term must maintain full-time enrollment and on-ground presence for the duration of the full summer term Enrollment in on-ground courses must occur during all parts of the term. Online-only enrollment or no enrollment during a part of term (first half/second half) is not an acceptable way to maintain nonimmigrant status As students in their final term before graduation may be eligible for a final term reduced course load (RCL), please review the “Final Term” guidelines provided by OGS to understand how to maintain your student status. Summer Travel If you plan to travel during the summer term, please review all the travel guidance provided by OGS. Key Resources Travel Signature Request » This is to request a travel endorsement on your I-20 or DS-2019. Related Articles: Guidelines on Maintaining Status Final Term Navigate this Page: Frequently Asked Questions » Frequently Asked Questions × If I maintain full-time enrollment with on-ground presence during the summer term(s) can this term be considered as accrued time toward eligibility for F-1/J-1 benefits for work authorization? Some benefits require you to have been enrolled full-time in F-1 or J-1 status for a certain number of semesters/quarters in order to be eligible. You may count the summer term towards this requirement if you are enrolled full-time in the full summer or in the summer quarter; part-time summer enrollment and enrollment in summer 1 or summer 2 only cannot be counted towards eligibility for these benefits. If the summer is not required for me, can I still enroll in classes? Yes! You may enroll in both in-person and online courses at your leisure. However, if you plan to engage in any practical training opportunities, you must receive employment authorization.Students Studying in \n",
      "\t\t\t\t\t\t\t\t\t\t\t\t\t\t\t\t\t\t\t\t\t\t\t\tThe United States F-1 Curricular Practical Training (CPT) Curricular Practical Training (CPT) is a benefit for eligible F-1 students to authorize approved experiential learning that takes place in the U.S. or with a U.S. based employer. Understanding Curricular Practical Training (CPT) CPT is a form of curricular training authorization available for eligible F-1 students during their program of study for experiential learning opportunities that are necessary and integral, or required, as part of an academic program at Northeastern University. CPT authorization must be obtained for every co-op, internship, practicum, clinical rotation, corporate residency, experiential PhD, or other approved experiential learning opportunity CPT authorization is required prior to the intended start date of the experiential learning , whether or not the activity takes place on-campus or off-campus CPT can be either full-time (more than 20 hours per week) or part-time (20 hours or less per week) CPT can be either paid or unpaid CPT is employer, location, full-time/part-time, and date specific. The employer’s name, address and the precise start and end dates must be authorized by OGS in advance Students must maintain on-ground presence during every required term of study. This includes any required term when a student is authorized for CPT Once authorized for CPT, F-1 students must comply with the authorization granted. Any extensions, cancellations, or changes to authorized CPT must be first approved by the academic advisor/co-op coordinator and OGS. Non-curricular based on-campus activities (commonly referred to as “on-campus employment”) do not require CPT authorization. If you have any questions about how this applies to you, please contact OGS. If you are a student considering volunteering or engaging in unpaid internships at Northeastern or a staff/faculty looking to hire a volunteer or unpaid intern, please review this guidance from Northeastern’s University Office of General Counsel. Eligibility Requirements In order to be eligible for CPT, students must meet all of the following requirements Comply with all college academic and enrollment eligibility requirements and policies for experiential learning This includes every co-op, internship, practicum, clinical rotation, corporate residency, experiential PhD, or other experiential learning opportunity, whether the activity takes place on-campus or off-campus Enroll in a course that requires an experiential learning component in the syllabus. This will usually be a Co-op course or another program-required course Enrollment must be maintained for the entire period of authorized CPT Complete at least one academic year as a full-time, degree-seeking student with an active SEVIS record* One academic year is defined as two semesters or three quarters while maintaining on-ground presence Time spent in Prematriculation and Pathway programs (including N.U.in, Foundation Year, NU Immerse, Global Scholars, and Global Pathways) will not accrue time toward CPT eligibility. Students enrolled in such programs will only begin to accrue time toward CPT eligibility once they have fully matriculated into a degree-seeking program *Limited exceptions to the completion of one academic year may apply in the following circumstances: For students in graduate-level programs that require immediate participation in experiential learning for program completion For students who completed one academic year in another visa status or institution changed to F-1 status within the U.S. or by travel and re-entry, who otherwise qualify Change of Status and SEVIS Transfer Students please review “Change of Status and Transfer Students” below for more information Maintain full-time enrollment and on-ground presence during every required term of study Review the OGS Guidelines on Maintaining Status for more information A huge part of your responsibility of maintaining your F-1 status is by actively participating in your academic activities in person. Therefore, OGS does not recommend that any F-1 student be absent from the U.S. for an extended period during the academic term. As an international student, this prolonged absence may impact your F-1 status and your long-term academic goals as well as future immigration benefits. Make normal progress towards degree completion CPT authorization must not cause a delay in the completion of a student’s academic program Maintaining On-Ground Presence when Authorized for CPT F-1 international students must maintain on-ground presence during every required academic term of study to maintain nonimmigrant student status . This includes any required term when a student is engaged in full-time practical training/experiential learning that requires Curricular Practical Training (CPT) authorization. Students are not required to maintain on-ground presence during non-required terms. Defined Practical Experience Methods: In person (Traditional): All engagement takes place on site at the employer’s physical location Hybrid: The majority of the engagement takes place on site at the employer’s physical location Remote (Online): The majority of the engagement takes place remotely, and there is limited or no engagement at the employer’s physical location Full-Time Experiential Learning with CPT Authorization To maintain on-ground presence during a required term while pursuing full-time experiential learning, students have the following options: Option 1 : Engaging on-site (in person) at the employer’s physical location. This can be in-person or hybrid, as defined above Students will be maintaining on-ground presence based on their engagement with the employer Option 2 : Engaging remotely with the employer with simultaneous enrollment in a university designated on-ground course Students should enroll in an on-ground course stipulated by their academic program, which must run for the duration of the required academic term. Students should work with their academic department/advisor/co-op advisor to identify a course that is appropriate. Co-op students only : Students engaging in a remote co-op will be enrolled in a 0-credit (no cost) in-person EXED course. This course will not be counted toward major requirements. If you have questions about this course, please contact your co-op/career advisor. Part-Time Experiential Learning with CPT Authorization F-1 Students engaged remotely in part-time practical training/experiential learning must couple their part-time practical experience course enrollment with only on-ground courses to meet both the on-ground requirement and the full-time status requirement. As such, students engaging in part-time co-ops are not eligible to maintain their on-ground presence through the EXED course and may not enroll in online classes to meet the minimum credit requirements for the term. Experiential Learning with an Overseas Employer with CPT Authorization F-1 students engaging in remote practical training with an overseas employer from inside the U.S. are required to obtain CPT authorization and maintain their on-ground presence through simultaneous enrollment in a university designated on-ground course, as described above. Failure to Maintain On-Ground Presence If an F-1 student withdraws from or fails to attend their on-ground course while engaging in remote practical training, it will be considered a violation of status and the student’s F-1 non-immigrant status will be terminated. Regardless of the modality of the practical experience, students need regular engagement with both the practical training provider as well as the academic program to confirm successful progression of the practical training experience. Travel during Experiential Learning Engaging on-site at your employer’s physical location or participating in a university designated on-ground course is a mandatory to maintain the on-ground presence required by your F-1 student status. Therefore, OGS does not recommend that any F-1 student be absent from the U.S. for an extended period during the academic term, as their F-1 status and academic goals may be negatively impacted. In cases where travel outside of the U.S. cannot be avoided, we highly recommend that students limit their absence from the U.S. and in-person classes as much as possible. If students choose to travel during a required term, they are taking on the associated risks, including but not limited to scrutiny by Customs and Border Protection (CBP) upon re-entry to the U.S. as well as scrutiny when applying for future immigration status or benefits. Application Process To participate in an experiential learning opportunity in the U.S., F-1 students must obtain CPT authorization from OGS. All CPT requests must first be academically reviewed, approved, and determined to be integral or required for degree completion, by the appropriate advisor, co-op coordinator, or authorized secondary approver. Step 1: Student completes the CPT Authorization Request e-form The student must fill out the CPT Authorization Request e-form. The documents the student will need include: Electronic I-94 (“Class of Admission” must be F-1 and “Admit Until Date” must indicate “D/S”) Passport identity page that is valid at least until the start date of the CPT authorization When the student has submitted the e-form it will be routed to the secondary approver as indicated in the e-form. Step 2: Secondary approver reviews student's CPT e-form submission The Authorized Secondary Approver (CPT) who receives the request will review the information the student has entered and determine if they approve it academically as either integral or required for program completion. If approved, the Authorized Secondary Approver will submit the request to OGS. If the Authorized Secondary Approver does not approve of the request, they will email the student directly regarding their decision. See below for Authorized Secondary Approver Lists : Undergraduate Students Graduate Students Step 3: OGS reviews completed CPT e-form submission Upon receipt of the completed e-form from the Secondary Approver, OGS will review the CPT request within 15 business days. OGS will examine the student’s documents to determine if they meet all F-1 eligibility requirements for CPT. OGS may place the request on hold and email the student/advisor for more information or approve/deny the CPT request. Step 4: Student receives updated I-20 with CPT recommendation If your CPT request is approved, a Designated School Official (DSO) from OGS will send the I-20 electronically to your Northeastern University email. You are advised to: Review your I-20 to ensure all information is accurate and complete Print and sign your I-20 Only work within the listed start and end dates on your I-20 Updating or changing your CPT authorization While on CPT, any updates, extensions, changes, or cancellations to your employment must be reported to and approved both by your academic/co-op advisor and by a DSO in OGS. These changes include: Employer Location Date Number of hours worked per week (full-time/part-time) Cancellations Other corrections Once authorized for CPT, F-1 students must comply with the authorization granted. How CPT affects OPT Eligibility If an F-1 student exceeds 364 days of full-time CPT (more than 20 hours per week at a degree level—bachelor’s, master’s or doctorate), they will lose their eligibility to apply for Optional Practical Training (OPT) at that degree level. Part-time CPT (20 hours per week or less) does not accrue time towards the 364-day calculation. When counting CPT days, every day between the start and end date of CPT is included (including the start and end dates). The days that are counted are the days that the student had authorization, not the days the student actually worked. This means even if it was a weekend, holiday, vacation etc., it still counts if the student had CPT authorization. It is the responsibility of the student to track of how many full-time CPT days have been used per degree level. Students can use previously issued I-20s to document this. Students may also request a summary of their CPT authorization history at Northeastern from OGS via this e-form . As a reminder, CPT is a benefit of F-1 status, not a guarantee. While students may be able to work up to 364 days while maintaining OPT eligibility, CPT authorization is directly tied to a student’s academic curriculum. Therefore, the amount of CPT for which students are eligible and may be authorized is entirely based on their program of study, as well as F-1 federal regulations. Simply because an F-1 student has not engaged in 364 days of full-time CPT does not necessarily mean the student is eligible for additional CPT or an extension of a current CPT authorization. Change of Status and SEVIS Transfer Students Change of Status Students Full-time students who have applied to change their immigration status to F-1 within the U.S. (application through USICS) or by traveling (via consular processing) may be eligible to use time from a previous immigration status towards accruing benefits, such as CPT, as long as the student has previously maintained full-time enrollment requirements. Please contact OGS to make an appointment with a DSO to discuss CPT eligibility and bring all applicable documentation with you (e.g. official transcripts, a copy of your I-797 approval notice if you changed status within the U.S.). SEVIS Transfer Students International students with Active F-1 records who transfer their SEVIS record to Northeastern University may be eligible to use enrolled time at the previous institution towards the one academic year requirement for CPT eligibility. Please contact OGS to make an appointment with a DSO to discuss CPT eligibility and have all applicable documentation available (e.g. official transcripts and your previous I-20) Key Resources CPT Authorization Request Form » This e-form is to request authorization for Curricular Practical Training. CPT Update e-form » This form is intended only for updates to existing CPT authorization – it is not intended for students who are requesting new periods of CPT authorization or who are trying to extend their CPT authorization for new academic terms. CPT Authorization History Request » This e-form is to request the number of days authorized for CPT. Related Articles: Social Security Number Unauthorized Employment Navigate this Page: Frequently Asked Questions » Frequently Asked Questions × Can I request CPT authorization in my final term of study? The Office of Global Services will only authorize CPT in a student’s final term if the practical training experience is required for degree completion. Can I request CPT authorization for my independent study course? Independent study courses do not qualify for CPT authorization. Do I need CPT authorization for an internship or co-op that is unpaid? Yes! All work associated with an experiential learning opportunity requires CPT authorization, even if it is unpaid. Is there a limit to the number of hours per week I can work while authorized for CPT? In order to know the answer to this, you will need to understand what kind of CPT authorization you have. You can find this information on the second page of your I-20. If your I-20 states you have part-time CPT, then this means you can never exceed 20 hours per week. If your I-20 states you have full-time CPT, then this means there is no limit to the number of hours per week you can work. However, you must always check with your advisor or co-op coordinator to see if they have a limit to the number of hours per week you can work. Do I need CPT authorization for training dates that occur prior to employment? Yes, all training dates require prior CPT authorization. Remember, even time spend while you are not being paid requires CPT authorization. How will I know if I have received CPT authorization? You will know if you have CPT authorization by checking the second page of your most recent I-20. On the second page of your I-20, you will see all the details of your employment authorization. Can I take additional courses while I'm participating in a co-op/internship/clinical rotation? If you would like to enroll in courses while you are participating in a co-op/internship/clinical rotation, you must check with your co-op department or advisor to see if there are academic or university restrictions that would prevent you from doing so. Can I have an on-campus job while I am authorized for CPT during a co-op/internship/clinical rotation? Yes, students are allowed to work on-campus while they also have CPT. However, students are not allowed to work on an SGA (Stipended Graduate Assistantship) and be authorized for CPT for a paid experience at the same time. Please keep in mind that some colleges may not allow you to work on-campus and be on coop at the same time or may have restrictions on how much on-campus employment is allowed while on coop. If this is the case, you will need to follow your co-op department’s rules. My employer offered to extend my co-op/internship on a part-time basis. Can I do this? If your employer offers to extend your co-op/internship on a part-time basis, you must inquire with your academic department to determine if the extension is curricular and is integral to your course of study. If it is determined that the continuation of your co-op/internship is integral to your course of study, you may be eligible to request CPT authorization again. If the continuation of the co-op/internship is not supported academically, you may be eligible to apply for Pre-Completion Optional Practical Training (Pre-OPT). Does part-time CPT count towards the 364 day mark that affects my OPT eligibility? No, part-time CPT authorization does not count towards the 364 days of authorization that would impact OPT eligibility. How can I find out how much CPT time I've used? You can calculate how much CPT time you’ve used by looking at past I-20s. You can also request documentation of your previous CPT authorizations from OGS by filling out the following e-form. Do I need CPT authorization if Northeastern is my employer during co-op/internship/clinical rotation? Students must be authorized for CPT for any experiential learning they conduct, on- or off-campus, paid or unpaid. Students who pursue experiential learning with Northeastern as their employer require CPT authorization. Can I end my CPT earlier than the original end date? Students must consult with their co-op and/or academic advisor if there will be any changes to their approved Co-op/CPT employment in order to ensure that all academic requirements will be met (this link is specific to Co-op requirements). Then, students must follow up with OGS by completing the CPT Update E-form to report changes to OGS in order to receive an updated I-20. How do I find who my authorized secondary approver for CPT is? Authorized secondary approvers are often co-op coordinators or academic advisors for programs that involve experiential learning other than co-op. The lists of authorized secondary approvers for CPT can be found here: Undergraduate students Graduate students I am pursuing a double/combined major. How do I know if my opportunity is eligible for CPT? Students are only eligible for CPT authorization if their opportunity is directly related to their major area of study. For students with double or combined majors, the opportunity may be related to either major. This criteria is confirmed by the students authorized secondary approver, as they have the required understanding about student’s major/curriculum to make this determination.Students Studying in \n",
      "\t\t\t\t\t\t\t\t\t\t\t\t\t\t\t\t\t\t\t\t\t\t\t\tThe United States Volunteering and Unpaid Internships Northeastern University values experiential learning and serving our communities.  While volunteering may seem simple, it is actually a complex area in which immigration regulations and labor laws intersect. Complexities of volunteering If you are interested in volunteering, you must be aware of relevant F-1 and J-1 regulations, so you and the organization do not violate any rules regarding employment authorization. F-1 and J-1 students who are working off-campus must be authorized before engaging in the employment. Without proper authorization, off-campus employment, including some volunteering, would be considered a violation of your F-1 or J-1 requirements. The consequences may include loss of your F-1 or J-1 status in the U.S.—making it difficult to reacquire lawful status within the U.S. If you are considering engaging in a volunteering opportunity, please make an appointment with an OGS adviser before making plans to begin any activity. Volunteering vs. Unpaid Internship There is a difference between volunteering and engaging in an unpaid internship. Volunteering refers to donating time with an organization whose primary purpose is charitable or humanitarian in nature, without remuneration or any other type of compensation. F-1 and J-1 students are allowed to engage in volunteer work as long as it meets this stated criteria. For example, it is permitted for F-1 and J-1 students to volunteer at a local homeless shelter, charitable food pantry, or American Red Cross. Unpaid internships, on the other hand, do not usually qualify as “volunteer” activity. Internships, both paid and unpaid, are primarily offered by the private sector and related to the intern’s major field of study. Therefore, F-1 and J-1 students are advised to seek work authorization prior in order to engage in unpaid internships. The Department of Labor in the U.S. has guidelines for those seeking an unpaid internship, please see here , the “Primary Beneficiary Test” outlined on the Department of Labor’s website can be used to determine whether or not the unpaid internship is considered employment. Because of the consequences of unauthorized employment, we caution all F-1 and J-1 students to consult the Office of Global Services when considering engaging in an unpaid internship or volunteering opportunity. Please make an appointment with an OGS advisor before making plans to begin any activity. U.S. Department of Labor's definition volunteering The Department of Labor is concerned both with the protection of jobs for U.S citizens, and with the prevention of exploitation of workers. They have created laws to ensure employment that should be paid is not done for free. While both you and the employer may be happy with an unpaid arrangement (for example, you may be eager to work even on an unpaid basis in a company in order to gain job experience), this may be considered an unfair arrangement in cases where the work is normally performed by a paid person and both the company and the employee are benefiting from the employment. How to determine whether an activity is truly volunteering and does NOT require work authorization Employment authorization is NOT required when the work performed can be considered volunteering. To be considered volunteering, the work performed by the individual must meet the following criteria: No compensation or expectation of compensation The volunteer cannot displace a genuine employee and the services provided by the volunteer should not be the same services for which he or she was previously paid and/or expects to be hired and paid for in the future Services are performed for a non-profit charity and the work is “charitable” in nature Services are performed for a state or local government agency and there is a “civic” purpose to the work Volunteering at Northeastern If you are a student considering volunteering or engaging in unpaid internships at Northeastern or a staff/faculty looking to hire a volunteer or unpaid intern, please review this guidance from Northeastern University Office of General Counsel. Due to the complexity of U.S. labor laws: all university departments, who want to have students volunteer within their department, are advised to thoroughly review this resource. If they have further questions on whether or not the engagement is considered volunteering, they should check directly with the Office of General Counsel. Related Articles: F-1 Curricular Practical Training J-1 Academic Training Navigate this Page: Frequently Asked Questions » Frequently Asked Questions × Is it employment or volunteering? A common misconception is that the only difference is employees get paid and volunteers do not. However, according to U.S. labor laws, there is more to distinguish between employees and volunteers than whether an individual receives a regular paycheck or not. Work that is unpaid may still be considered employment that requires F-1 or J-1 off-campus work authorization. Who is considered an employee? The definition of an employee used in the context of immigration regulations is as follows: “An individual who provides services or labor for an employer for wages or other remuneration.” The term “remuneration” is very broad and includes a variety of non-monetary benefits, such as free housing, food, gifts, etc. Who is considered a volunteer? According to the Department of Labor, volunteers are individuals “who volunteer or donate their services, usually on a part-time basis, for public services, religious or humanitarian objectives, not as employees and without contemplation of pay, are not considered employees of the religious, charitable or similar non-profit organizations that receive their service.” To learn more, click here .Students Studying in \n",
      "\t\t\t\t\t\t\t\t\t\t\t\t\t\t\t\t\t\t\t\t\t\t\t\tCanada Working While Studying Updated November 15th, 2024 Learn more about studying in Canada Work on Campus You can work on-campus as an international student without a Work Permit if you meet the three criteria below: You have a valid study permit with a condition allowing you to work ; You are a full-time student at Northeastern University; You have a Social Insurance Number (SIN) You must stop working on-campus: on the day you stop studying full-time when your study permit expires if you’re on an authorized leave from your studies if you’re switching schools and aren’t currently studying You can return to work only once you’re back to studying and you meet all the requirements to work on-campus. Please also be aware of the Northeastern University policies about working on campus as an international student. Students are only allowed to work 20 hours per week for an on-campus job during the school term, and up to 40 hours during scheduled breaks. Work off Campus Starting Nov 8, 2024, You can work off-campus as an international student without a Work Permit up to 24 hours per week or full-time during the scheduled school breaks if you meet the four criteria below: You have a valid study permit that includes a condition stating you may work off campus; You are a full-time student at Northeastern University; You have a Social Insurance Number (SIN); You need to have full time student status, before and after the scheduled break. For more information please see the IRCC webpage here . If you are a part time student You can work off-campus only if: You meet all the requirements above and You’re only studying part-time, instead of full time, because: You’re in the last semester of your program and you don’t need a full course load to complete your program and You were a full-time student in your program in Canada, up until your last semester Note: You can only start working on or off campus when you start your program. You can’t work before your studies begin. Co-op Work If work experience is a necessary and integral part of your program and you meet the college co-op program criteria, you may work full-time during their designated co-op term(s) .  All NU programs are eligible for co-op. During your co-op term you must be cleared by your college for co-op, register for the co-op course, and have a valid co-op permit in hand. To check whether you may participate in the co-op program, please check your college website and/or contact your co-op coordinator. To check how to apply for a co-op work permit, please v isit here . To request a co-op school letter, please contact our international student advisors at [email protected] . Please note that this is for CURRENTLY ENROLLED students only. If you are an incoming student, you need to upload your POA as your proof of co-op during your program in your Study Permit application. Please do not email us for a co-op letter. Navigate this Page: Frequently Asked Questions ×Return from Leave of Absence Less Than 5 Months Return from Leave of Absence Less Than 5 Months » This is to request a new I-20 to resume classes after a leave of absence of less than 5 months Navigate this Page: Frequently Asked Questions ×\n"
     ]
    }
   ],
   "source": [
    "print(combined_content)"
   ]
  },
  {
   "cell_type": "code",
   "execution_count": 17,
   "metadata": {
    "colab": {
     "base_uri": "https://localhost:8080/"
    },
    "executionInfo": {
     "elapsed": 12356,
     "status": "ok",
     "timestamp": 1741541023449,
     "user": {
      "displayName": "Himanshu Tahelyani",
      "userId": "02216693148548812411"
     },
     "user_tz": 240
    },
    "id": "DYwdGw1mjcqH",
    "outputId": "2b8ccac4-116d-4537-b5b6-ab66eede1f17"
   },
   "outputs": [
    {
     "name": "stdout",
     "output_type": "stream",
     "text": [
      "\n",
      "    _|    _|  _|    _|    _|_|_|    _|_|_|  _|_|_|  _|      _|    _|_|_|      _|_|_|_|    _|_|      _|_|_|  _|_|_|_|\n",
      "    _|    _|  _|    _|  _|        _|          _|    _|_|    _|  _|            _|        _|    _|  _|        _|\n",
      "    _|_|_|_|  _|    _|  _|  _|_|  _|  _|_|    _|    _|  _|  _|  _|  _|_|      _|_|_|    _|_|_|_|  _|        _|_|_|\n",
      "    _|    _|  _|    _|  _|    _|  _|    _|    _|    _|    _|_|  _|    _|      _|        _|    _|  _|        _|\n",
      "    _|    _|    _|_|      _|_|_|    _|_|_|  _|_|_|  _|      _|    _|_|_|      _|        _|    _|    _|_|_|  _|_|_|_|\n",
      "\n",
      "    To log in, `huggingface_hub` requires a token generated from https://huggingface.co/settings/tokens .\n",
      "Enter your token (input will not be visible): \n",
      "Add token as git credential? (Y/n) n\n",
      "Token is valid (permission: fineGrained).\n",
      "The token `capstone_project` has been saved to /root/.cache/huggingface/stored_tokens\n",
      "Your token has been saved to /root/.cache/huggingface/token\n",
      "Login successful.\n",
      "The current active token is: `capstone_project`\n"
     ]
    }
   ],
   "source": [
    "!huggingface-cli login"
   ]
  },
  {
   "cell_type": "markdown",
   "metadata": {
    "id": "72e_m_PE7yWW"
   },
   "source": []
  },
  {
   "cell_type": "code",
   "execution_count": null,
   "metadata": {
    "colab": {
     "base_uri": "https://localhost:8080/"
    },
    "collapsed": true,
    "executionInfo": {
     "elapsed": 30312,
     "status": "ok",
     "timestamp": 1741541058696,
     "user": {
      "displayName": "Himanshu Tahelyani",
      "userId": "02216693148548812411"
     },
     "user_tz": 240
    },
    "id": "lMuATCgSh5u9",
    "outputId": "5243e734-18bc-4dc3-a0c3-73bce8f7604e"
   },
   "outputs": [
    {
     "name": "stdout",
     "output_type": "stream",
     "text": [
      "\rFetching 13 files:   0% 0/13 [00:00<?, ?it/s]Downloading 'LICENSE.txt' to 'Llama-3.2-1B-Instruct/.cache/huggingface/download/cyBuwAu93UXke23CJCWORBYR70A=.085b47c1575cb889b7024030e60b78f54f0b8c9e.incomplete'\n",
      "Downloading '.gitattributes' to 'Llama-3.2-1B-Instruct/.cache/huggingface/download/wPaCkH-WbT7GsmxMKKrNZTV4nSM=.a6344aac8c09253b3b630fb776ae94478aa0275b.incomplete'\n",
      "Downloading 'USE_POLICY.md' to 'Llama-3.2-1B-Instruct/.cache/huggingface/download/UcPfAI5B08awK9_TiALuc0iOThI=.ac3c5f21b9779e3da0677d6d3c587778fe3a331e.incomplete'\n",
      "Downloading 'README.md' to 'Llama-3.2-1B-Instruct/.cache/huggingface/download/Xn7B-BWUGOee2Y6hCZtEhtFu4BE=.b3c62ef6190712fb3e31af1628f0b85706fc4ba8.incomplete'\n",
      "Downloading 'config.json' to 'Llama-3.2-1B-Instruct/.cache/huggingface/download/8_PA_wEVGiVa2goH2H4KQOQpvVY=.3e3aaf51a035cb5092d9f6827a0dc074657ba88c.incomplete'\n",
      "Downloading 'model.safetensors' to 'Llama-3.2-1B-Instruct/.cache/huggingface/download/xGOKKLRSlIhH692hSVvI1-gpoa8=.1ff795ff6a07e6a68085d206fb84417da2f083f68391c2843cd2b8ac6df8538f.incomplete'\n",
      "Downloading 'generation_config.json' to 'Llama-3.2-1B-Instruct/.cache/huggingface/download/3EVKVggOldJcKSsGjSdoUCN1AyQ=.75ae08310d6d23df373ee2644b497192b3cce6d8.incomplete'\n",
      "\n",
      "model.safetensors:   0% 0.00/2.47G [00:00<?, ?B/s]\u001b[ADownloading 'original/consolidated.00.pth' to 'Llama-3.2-1B-Instruct/.cache/huggingface/download/original/_dLw4ih-O1I9AkO57vYC89Z48Os=.fc17d497df5e4175b3a8acb4f5865b26f7fc1b009b25bef814b95fde10e8a1f3.incomplete'\n",
      "\n",
      "\n",
      "consolidated.00.pth:   0% 0.00/2.47G [00:00<?, ?B/s]\u001b[A\u001b[A\n",
      "\n",
      "\n",
      ".gitattributes: 100% 1.52k/1.52k [00:00<00:00, 6.28MB/s]\n",
      "Download complete. Moving file to Llama-3.2-1B-Instruct/.gitattributes\n",
      "\n",
      "\n",
      "\n",
      "LICENSE.txt: 100% 7.71k/7.71k [00:00<00:00, 29.0MB/s]\n",
      "Download complete. Moving file to Llama-3.2-1B-Instruct/LICENSE.txt\n",
      "Fetching 13 files:   8% 1/13 [00:00<00:05,  2.16it/s]\n",
      "\n",
      "\n",
      "USE_POLICY.md: 100% 6.02k/6.02k [00:00<00:00, 35.9MB/s]\n",
      "Download complete. Moving file to Llama-3.2-1B-Instruct/USE_POLICY.md\n",
      "\n",
      "model.safetensors:   1% 21.0M/2.47G [00:00<00:22, 108MB/s]\u001b[A\n",
      "\n",
      "\n",
      "README.md: 100% 41.7k/41.7k [00:00<00:00, 109MB/s]\n",
      "Download complete. Moving file to Llama-3.2-1B-Instruct/README.md\n",
      "\n",
      "\n",
      "\n",
      "generation_config.json:   0% 0.00/189 [00:00<?, ?B/s]\u001b[A\u001b[A\u001b[A\n",
      "\n",
      "generation_config.json: 100% 189/189 [00:00<00:00, 348kB/s]\n",
      "Download complete. Moving file to Llama-3.2-1B-Instruct/generation_config.json\n",
      "\n",
      "\n",
      "\n",
      "config.json: 100% 877/877 [00:00<00:00, 7.63MB/s]\n",
      "Download complete. Moving file to Llama-3.2-1B-Instruct/config.json\n",
      "\n",
      "\n",
      "consolidated.00.pth:   2% 52.4M/2.47G [00:00<00:13, 173MB/s]\u001b[A\u001b[A\n",
      "model.safetensors:   2% 41.9M/2.47G [00:00<00:24, 99.7MB/s]\u001b[ADownloading 'original/params.json' to 'Llama-3.2-1B-Instruct/.cache/huggingface/download/original/jqHB00sRqBVJXCrFOHz5gDS2Bg8=.9cd8dbdf2dc6f4d8abb60bdb5ce64f4bec2fdfd9.incomplete'\n",
      "Downloading 'special_tokens_map.json' to 'Llama-3.2-1B-Instruct/.cache/huggingface/download/ahkChHUJFxEmOdq5GDFEmerRzCY=.02ee80b6196926a5ad790a004d9efd6ab1ba6542.incomplete'\n",
      "Downloading 'original/tokenizer.model' to 'Llama-3.2-1B-Instruct/.cache/huggingface/download/original/7iVfz3cUOMr-hyjiqqRDHEwVBAM=.82e9d31979e92ab929cd544440f129d9ecd797b69e327f80f17e1c50d5551b55.incomplete'\n",
      "Downloading 'tokenizer.json' to 'Llama-3.2-1B-Instruct/.cache/huggingface/download/HgM_lKo9sdSCfRtVg7MMFS7EKqo=.5cc5f00a5b203e90a27a3bd60d1ec393b07971e8.incomplete'\n",
      "Downloading 'tokenizer_config.json' to 'Llama-3.2-1B-Instruct/.cache/huggingface/download/vzaExXFZNBay89bvlQv-ZcI6BTg=.4ff488a165e900e5129cda7c20ab32d568d2a475.incomplete'\n",
      "\n",
      "\n",
      "\n",
      "tokenizer.model: 100% 2.18M/2.18M [00:00<00:00, 78.5MB/s]\n",
      "Download complete. Moving file to Llama-3.2-1B-Instruct/original/tokenizer.model\n",
      "\n",
      "\n",
      "consolidated.00.pth:   3% 73.4M/2.47G [00:00<00:15, 155MB/s]\u001b[A\u001b[A\n",
      "model.safetensors:   3% 62.9M/2.47G [00:00<00:22, 109MB/s] \u001b[A\n",
      "\n",
      "\n",
      "params.json: 100% 220/220 [00:00<00:00, 1.24MB/s]\n",
      "Download complete. Moving file to Llama-3.2-1B-Instruct/original/params.json\n",
      "\n",
      "\n",
      "\n",
      "special_tokens_map.json: 100% 296/296 [00:00<00:00, 2.39MB/s]\n",
      "Download complete. Moving file to Llama-3.2-1B-Instruct/special_tokens_map.json\n",
      "\n",
      "\n",
      "consolidated.00.pth:   4% 94.4M/2.47G [00:00<00:17, 136MB/s]\u001b[A\u001b[A\n",
      "\n",
      "\n",
      "tokenizer_config.json: 100% 54.5k/54.5k [00:00<00:00, 29.7MB/s]\n",
      "Download complete. Moving file to Llama-3.2-1B-Instruct/tokenizer_config.json\n",
      "\n",
      "model.safetensors:   3% 83.9M/2.47G [00:00<00:19, 120MB/s]\u001b[A\n",
      "\n",
      "\n",
      "tokenizer.json:   0% 0.00/9.09M [00:00<?, ?B/s]\u001b[A\u001b[A\u001b[A\n",
      "\n",
      "consolidated.00.pth:   5% 115M/2.47G [00:00<00:18, 126MB/s] \u001b[A\u001b[A\n",
      "model.safetensors:   4% 105M/2.47G [00:00<00:20, 116MB/s] \u001b[A\n",
      "\n",
      "consolidated.00.pth:   6% 136M/2.47G [00:01<00:18, 126MB/s]\u001b[A\u001b[A\n",
      "model.safetensors:   5% 126M/2.47G [00:01<00:19, 123MB/s]\u001b[A\n",
      "\n",
      "consolidated.00.pth:   6% 157M/2.47G [00:01<00:17, 129MB/s]\u001b[A\u001b[A\n",
      "model.safetensors:   6% 147M/2.47G [00:01<00:18, 129MB/s]\u001b[A\n",
      "\n",
      "consolidated.00.pth:   7% 178M/2.47G [00:01<00:16, 140MB/s]\u001b[A\u001b[A\n",
      "model.safetensors:   7% 168M/2.47G [00:01<00:18, 127MB/s]\u001b[A\n",
      "\n",
      "consolidated.00.pth:   8% 199M/2.47G [00:01<00:16, 141MB/s]\u001b[A\u001b[A\n",
      "model.safetensors:   8% 189M/2.47G [00:01<00:18, 126MB/s]\u001b[A\n",
      "\n",
      "consolidated.00.pth:   9% 220M/2.47G [00:01<00:15, 142MB/s]\u001b[A\u001b[A\n",
      "model.safetensors:   8% 210M/2.47G [00:01<00:17, 128MB/s]\u001b[A\n",
      "\n",
      "consolidated.00.pth:  10% 241M/2.47G [00:01<00:16, 139MB/s]\u001b[A\u001b[A\n",
      "model.safetensors:   9% 231M/2.47G [00:01<00:17, 129MB/s]\u001b[A\n",
      "\n",
      "consolidated.00.pth:  11% 262M/2.47G [00:01<00:15, 141MB/s]\u001b[A\u001b[A\n",
      "\n",
      "\n",
      "tokenizer.json: 100% 9.09M/9.09M [00:01<00:00, 7.13MB/s]\n",
      "Download complete. Moving file to Llama-3.2-1B-Instruct/tokenizer.json\n",
      "\n",
      "model.safetensors:  10% 252M/2.47G [00:02<00:18, 121MB/s]\u001b[A\n",
      "\n",
      "consolidated.00.pth:  11% 283M/2.47G [00:02<00:16, 136MB/s]\u001b[A\u001b[A\n",
      "\n",
      "consolidated.00.pth:  12% 304M/2.47G [00:02<00:14, 149MB/s]\u001b[A\u001b[A\n",
      "model.safetensors:  11% 273M/2.47G [00:02<00:16, 131MB/s]\u001b[A\n",
      "\n",
      "consolidated.00.pth:  14% 336M/2.47G [00:02<00:13, 157MB/s]\u001b[A\u001b[A\n",
      "model.safetensors:  12% 294M/2.47G [00:02<00:17, 125MB/s]\u001b[A\n",
      "\n",
      "consolidated.00.pth:  14% 357M/2.47G [00:02<00:14, 151MB/s]\u001b[A\u001b[A\n",
      "model.safetensors:  13% 315M/2.47G [00:02<00:16, 128MB/s]\u001b[A\n",
      "\n",
      "consolidated.00.pth:  16% 388M/2.47G [00:02<00:12, 173MB/s]\u001b[A\u001b[A\n",
      "model.safetensors:  14% 336M/2.47G [00:02<00:17, 125MB/s]\u001b[A\n",
      "\n",
      "consolidated.00.pth:  17% 409M/2.47G [00:02<00:12, 165MB/s]\u001b[A\u001b[A\n",
      "model.safetensors:  14% 357M/2.47G [00:02<00:16, 130MB/s]\u001b[A\n",
      "\n",
      "consolidated.00.pth:  17% 430M/2.47G [00:02<00:12, 157MB/s]\u001b[A\u001b[A\n",
      "model.safetensors:  15% 377M/2.47G [00:03<00:15, 131MB/s]\u001b[A\n",
      "\n",
      "consolidated.00.pth:  18% 451M/2.47G [00:03<00:15, 133MB/s]\u001b[A\u001b[A\n",
      "model.safetensors:  16% 398M/2.47G [00:03<00:17, 120MB/s]\u001b[A\n",
      "\n",
      "consolidated.00.pth:  19% 472M/2.47G [00:03<00:15, 128MB/s]\u001b[A\u001b[A\n",
      "model.safetensors:  17% 419M/2.47G [00:03<00:16, 122MB/s]\u001b[A\n",
      "\n",
      "consolidated.00.pth:  20% 493M/2.47G [00:03<00:16, 121MB/s]\u001b[A\u001b[A\n",
      "model.safetensors:  18% 440M/2.47G [00:03<00:17, 116MB/s]\u001b[A\n",
      "\n",
      "consolidated.00.pth:  21% 514M/2.47G [00:03<00:15, 128MB/s]\u001b[A\u001b[A\n",
      "model.safetensors:  19% 461M/2.47G [00:03<00:19, 103MB/s]\u001b[A\n",
      "\n",
      "consolidated.00.pth:  22% 535M/2.47G [00:03<00:18, 106MB/s]\u001b[A\u001b[A\n",
      "model.safetensors:  20% 482M/2.47G [00:04<00:21, 93.8MB/s]\u001b[A\n",
      "model.safetensors:  20% 493M/2.47G [00:04<00:20, 94.5MB/s]\u001b[A\n",
      "\n",
      "consolidated.00.pth:  22% 556M/2.47G [00:04<00:19, 99.0MB/s]\u001b[A\u001b[A\n",
      "model.safetensors:  20% 503M/2.47G [00:04<00:22, 88.7MB/s]\u001b[A\n",
      "model.safetensors:  21% 514M/2.47G [00:04<00:21, 91.2MB/s]\u001b[A\n",
      "\n",
      "consolidated.00.pth:  23% 577M/2.47G [00:04<00:20, 93.1MB/s]\u001b[A\u001b[A\n",
      "\n",
      "consolidated.00.pth:  24% 598M/2.47G [00:04<00:18, 103MB/s] \u001b[A\u001b[A\n",
      "model.safetensors:  22% 535M/2.47G [00:04<00:19, 99.9MB/s]\u001b[A\n",
      "\n",
      "consolidated.00.pth:  25% 619M/2.47G [00:04<00:15, 116MB/s]\u001b[A\u001b[A\n",
      "model.safetensors:  22% 556M/2.47G [00:04<00:16, 115MB/s] \u001b[A\n",
      "model.safetensors:  23% 577M/2.47G [00:04<00:16, 118MB/s]\u001b[A\n",
      "\n",
      "consolidated.00.pth:  26% 640M/2.47G [00:04<00:16, 114MB/s]\u001b[A\u001b[A\n",
      "model.safetensors:  24% 598M/2.47G [00:05<00:13, 136MB/s]\u001b[A\n",
      "\n",
      "consolidated.00.pth:  27% 661M/2.47G [00:05<00:14, 123MB/s]\u001b[A\u001b[A\n",
      "model.safetensors:  25% 619M/2.47G [00:05<00:13, 133MB/s]\u001b[A\n",
      "\n",
      "consolidated.00.pth:  28% 682M/2.47G [00:05<00:13, 129MB/s]\u001b[A\u001b[A\n",
      "\n",
      "consolidated.00.pth:  28% 703M/2.47G [00:05<00:13, 130MB/s]\u001b[A\u001b[A\n",
      "model.safetensors:  26% 640M/2.47G [00:05<00:14, 128MB/s]\u001b[A\n",
      "\n",
      "consolidated.00.pth:  29% 724M/2.47G [00:05<00:17, 100MB/s]\u001b[A\u001b[A\n",
      "model.safetensors:  27% 661M/2.47G [00:05<00:19, 91.4MB/s]\u001b[A\n",
      "\n",
      "consolidated.00.pth:  30% 744M/2.47G [00:05<00:18, 91.1MB/s]\u001b[A\u001b[A\n",
      "model.safetensors:  28% 682M/2.47G [00:06<00:19, 91.0MB/s]\u001b[A\n",
      "model.safetensors:  28% 703M/2.47G [00:06<00:17, 102MB/s] \u001b[A\n",
      "\n",
      "consolidated.00.pth:  31% 765M/2.47G [00:06<00:17, 96.4MB/s]\u001b[A\u001b[A\n",
      "model.safetensors:  29% 724M/2.47G [00:06<00:16, 105MB/s]\u001b[A\n",
      "\n",
      "consolidated.00.pth:  32% 786M/2.47G [00:06<00:16, 102MB/s] \u001b[A\u001b[A\n",
      "\n",
      "consolidated.00.pth:  33% 807M/2.47G [00:06<00:14, 119MB/s]\u001b[A\u001b[A\n",
      "model.safetensors:  31% 755M/2.47G [00:06<00:13, 131MB/s]\u001b[A\n",
      "\n",
      "consolidated.00.pth:  34% 828M/2.47G [00:10<01:51, 14.7MB/s]\u001b[A\u001b[A\n",
      "\n",
      "consolidated.00.pth:  35% 870M/2.47G [00:10<01:00, 26.3MB/s]\u001b[A\u001b[A\n",
      "model.safetensors:  31% 776M/2.47G [00:11<01:49, 15.5MB/s]\u001b[A\n",
      "\n",
      "consolidated.00.pth:  36% 902M/2.47G [00:11<00:42, 37.4MB/s]\u001b[A\u001b[A\n",
      "model.safetensors:  33% 807M/2.47G [00:11<01:10, 23.6MB/s]\u001b[A\n",
      "\n",
      "consolidated.00.pth:  37% 923M/2.47G [00:11<00:34, 45.2MB/s]\u001b[A\u001b[A\n",
      "model.safetensors:  34% 828M/2.47G [00:11<00:54, 30.2MB/s]\u001b[A\n",
      "\n",
      "consolidated.00.pth:  38% 944M/2.47G [00:11<00:27, 55.4MB/s]\u001b[A\u001b[A\n",
      "model.safetensors:  34% 849M/2.47G [00:11<00:42, 37.9MB/s]\u001b[A\n",
      "\n",
      "consolidated.00.pth:  39% 965M/2.47G [00:11<00:23, 65.5MB/s]\u001b[A\u001b[A\n",
      "model.safetensors:  35% 870M/2.47G [00:11<00:32, 48.6MB/s]\u001b[A\n",
      "\n",
      "consolidated.00.pth:  40% 986M/2.47G [00:11<00:19, 77.1MB/s]\u001b[A\u001b[A\n",
      "model.safetensors:  36% 891M/2.47G [00:11<00:25, 60.8MB/s]\u001b[A\n",
      "\n",
      "consolidated.00.pth:  41% 1.01G/2.47G [00:11<00:16, 91.3MB/s]\u001b[A\u001b[A\n",
      "model.safetensors:  37% 912M/2.47G [00:11<00:21, 73.6MB/s]\u001b[A\n",
      "\n",
      "consolidated.00.pth:  42% 1.03G/2.47G [00:11<00:13, 104MB/s] \u001b[A\u001b[A\n",
      "model.safetensors:  38% 933M/2.47G [00:11<00:17, 89.6MB/s]\u001b[A\n",
      "\n",
      "consolidated.00.pth:  43% 1.06G/2.47G [00:12<00:12, 109MB/s]\u001b[A\u001b[A\n",
      "model.safetensors:  39% 954M/2.47G [00:12<00:16, 90.4MB/s]\u001b[A\n",
      "\n",
      "consolidated.00.pth:  44% 1.08G/2.47G [00:13<00:30, 46.3MB/s]\u001b[A\u001b[A\n",
      "model.safetensors:  39% 975M/2.47G [00:13<00:35, 41.7MB/s]\u001b[A\n",
      "model.safetensors:  41% 1.01G/2.47G [00:13<00:23, 62.4MB/s]\u001b[A\n",
      "\n",
      "consolidated.00.pth:  45% 1.11G/2.47G [00:13<00:21, 64.0MB/s]\u001b[A\u001b[A\n",
      "model.safetensors:  42% 1.03G/2.47G [00:13<00:19, 75.6MB/s]\u001b[A\n",
      "\n",
      "consolidated.00.pth:  46% 1.13G/2.47G [00:13<00:17, 74.4MB/s]\u001b[A\u001b[A\n",
      "model.safetensors:  42% 1.05G/2.47G [00:13<00:16, 88.8MB/s]\u001b[A\n",
      "\n",
      "consolidated.00.pth:  47% 1.15G/2.47G [00:13<00:16, 81.9MB/s]\u001b[A\u001b[A\n",
      "model.safetensors:  43% 1.07G/2.47G [00:13<00:14, 98.8MB/s]\u001b[A\n",
      "\n",
      "consolidated.00.pth:  48% 1.18G/2.47G [00:13<00:12, 107MB/s] \u001b[A\u001b[A\n",
      "model.safetensors:  44% 1.09G/2.47G [00:13<00:12, 112MB/s] \u001b[A\n",
      "\n",
      "consolidated.00.pth:  49% 1.21G/2.47G [00:14<00:10, 115MB/s]\u001b[A\u001b[A\n",
      "model.safetensors:  45% 1.11G/2.47G [00:14<00:11, 119MB/s]\u001b[A\n",
      "model.safetensors:  46% 1.13G/2.47G [00:14<00:10, 129MB/s]\u001b[A\n",
      "\n",
      "consolidated.00.pth:  50% 1.23G/2.47G [00:14<00:10, 117MB/s]\u001b[A\u001b[A\n",
      "model.safetensors:  47% 1.15G/2.47G [00:14<00:09, 139MB/s]\u001b[A\n",
      "\n",
      "consolidated.00.pth:  50% 1.25G/2.47G [00:14<00:09, 130MB/s]\u001b[A\u001b[A\n",
      "model.safetensors:  48% 1.17G/2.47G [00:14<00:09, 134MB/s]\u001b[A\n",
      "\n",
      "consolidated.00.pth:  52% 1.28G/2.47G [00:14<00:08, 146MB/s]\u001b[A\u001b[A\n",
      "model.safetensors:  48% 1.20G/2.47G [00:14<00:09, 136MB/s]\u001b[A\n",
      "model.safetensors:  49% 1.22G/2.47G [00:14<00:08, 140MB/s]\u001b[A\n",
      "\n",
      "consolidated.00.pth:  53% 1.32G/2.47G [00:14<00:08, 133MB/s]\u001b[A\u001b[A\n",
      "model.safetensors:  50% 1.25G/2.47G [00:14<00:07, 173MB/s]\u001b[A\n",
      "\n",
      "consolidated.00.pth:  54% 1.34G/2.47G [00:15<00:08, 136MB/s]\u001b[A\u001b[A\n",
      "model.safetensors:  51% 1.27G/2.47G [00:15<00:07, 167MB/s]\u001b[A\n",
      "model.safetensors:  52% 1.29G/2.47G [00:16<00:23, 50.4MB/s]\u001b[A\n",
      "\n",
      "consolidated.00.pth:  56% 1.37G/2.47G [00:16<00:19, 57.1MB/s]\u001b[A\u001b[A\n",
      "\n",
      "consolidated.00.pth:  56% 1.39G/2.47G [00:16<00:16, 65.9MB/s]\u001b[A\u001b[A\n",
      "model.safetensors:  53% 1.31G/2.47G [00:16<00:19, 60.0MB/s]\u001b[A\n",
      "model.safetensors:  54% 1.33G/2.47G [00:16<00:15, 72.9MB/s]\u001b[A\n",
      "\n",
      "consolidated.00.pth:  57% 1.42G/2.47G [00:16<00:14, 75.4MB/s]\u001b[A\u001b[A\n",
      "model.safetensors:  55% 1.35G/2.47G [00:16<00:13, 85.5MB/s]\u001b[A\n",
      "\n",
      "consolidated.00.pth:  58% 1.44G/2.47G [00:16<00:12, 81.5MB/s]\u001b[A\u001b[A\n",
      "model.safetensors:  56% 1.38G/2.47G [00:16<00:10, 105MB/s] \u001b[A\n",
      "\n",
      "consolidated.00.pth:  59% 1.46G/2.47G [00:17<00:12, 84.0MB/s]\u001b[A\u001b[A\n",
      "model.safetensors:  57% 1.41G/2.47G [00:17<00:09, 111MB/s]\u001b[A\n",
      "\n",
      "consolidated.00.pth:  60% 1.48G/2.47G [00:17<00:10, 98.9MB/s]\u001b[A\u001b[A\n",
      "model.safetensors:  58% 1.43G/2.47G [00:17<00:08, 124MB/s]\u001b[A\n",
      "\n",
      "consolidated.00.pth:  61% 1.50G/2.47G [00:17<00:08, 109MB/s] \u001b[A\u001b[A\n",
      "model.safetensors:  59% 1.45G/2.47G [00:17<00:08, 125MB/s]\u001b[A\n",
      "\n",
      "consolidated.00.pth:  62% 1.52G/2.47G [00:17<00:07, 124MB/s]\u001b[A\u001b[A\n",
      "model.safetensors:  59% 1.47G/2.47G [00:17<00:07, 127MB/s]\u001b[A\n",
      "\n",
      "consolidated.00.pth:  62% 1.54G/2.47G [00:17<00:07, 124MB/s]\u001b[A\u001b[A\n",
      "model.safetensors:  60% 1.49G/2.47G [00:17<00:07, 123MB/s]\u001b[A\n",
      "\n",
      "consolidated.00.pth:  63% 1.56G/2.47G [00:17<00:07, 123MB/s]\u001b[A\u001b[A\n",
      "model.safetensors:  61% 1.51G/2.47G [00:17<00:07, 128MB/s]\u001b[A\n",
      "\n",
      "consolidated.00.pth:  64% 1.58G/2.47G [00:17<00:06, 132MB/s]\u001b[A\u001b[A\n",
      "model.safetensors:  62% 1.53G/2.47G [00:18<00:07, 120MB/s]\u001b[A\n",
      "\n",
      "consolidated.00.pth:  65% 1.60G/2.47G [00:18<00:07, 124MB/s]\u001b[A\u001b[A\n",
      "model.safetensors:  63% 1.55G/2.47G [00:18<00:07, 126MB/s]\u001b[A\n",
      "\n",
      "consolidated.00.pth:  66% 1.63G/2.47G [00:18<00:07, 119MB/s]\u001b[A\u001b[A\n",
      "model.safetensors:  64% 1.57G/2.47G [00:18<00:07, 125MB/s]\u001b[A\n",
      "\n",
      "consolidated.00.pth:  67% 1.65G/2.47G [00:18<00:07, 117MB/s]\u001b[A\u001b[A\n",
      "model.safetensors:  64% 1.59G/2.47G [00:18<00:06, 131MB/s]\u001b[A\n",
      "\n",
      "consolidated.00.pth:  67% 1.67G/2.47G [00:18<00:06, 119MB/s]\u001b[A\u001b[A\n",
      "model.safetensors:  65% 1.61G/2.47G [00:18<00:06, 131MB/s]\u001b[A\n",
      "\n",
      "consolidated.00.pth:  68% 1.69G/2.47G [00:18<00:06, 123MB/s]\u001b[A\u001b[A\n",
      "model.safetensors:  66% 1.64G/2.47G [00:18<00:06, 125MB/s]\u001b[A\n",
      "model.safetensors:  67% 1.66G/2.47G [00:18<00:06, 136MB/s]\u001b[A\n",
      "\n",
      "consolidated.00.pth:  69% 1.71G/2.47G [00:18<00:06, 116MB/s]\u001b[A\u001b[A\n",
      "\n",
      "consolidated.00.pth:  70% 1.73G/2.47G [00:19<00:06, 118MB/s]\u001b[A\u001b[A\n",
      "model.safetensors:  68% 1.68G/2.47G [00:19<00:06, 129MB/s]\u001b[A\n",
      "\n",
      "consolidated.00.pth:  71% 1.75G/2.47G [00:19<00:05, 125MB/s]\u001b[A\u001b[A\n",
      "model.safetensors:  69% 1.70G/2.47G [00:19<00:05, 135MB/s]\u001b[A\n",
      "\n",
      "consolidated.00.pth:  72% 1.77G/2.47G [00:19<00:05, 128MB/s]\u001b[A\u001b[A\n",
      "model.safetensors:  70% 1.72G/2.47G [00:19<00:05, 133MB/s]\u001b[A\n",
      "\n",
      "consolidated.00.pth:  73% 1.79G/2.47G [00:19<00:05, 128MB/s]\u001b[A\u001b[A\n",
      "model.safetensors:  70% 1.74G/2.47G [00:19<00:05, 129MB/s]\u001b[A\n",
      "\n",
      "consolidated.00.pth:  73% 1.81G/2.47G [00:19<00:05, 126MB/s]\u001b[A\u001b[A\n",
      "model.safetensors:  71% 1.76G/2.47G [00:19<00:05, 130MB/s]\u001b[A\n",
      "\n",
      "consolidated.00.pth:  74% 1.84G/2.47G [00:19<00:05, 122MB/s]\u001b[A\u001b[A\n",
      "model.safetensors:  72% 1.78G/2.47G [00:19<00:05, 125MB/s]\u001b[A\n",
      "\n",
      "consolidated.00.pth:  75% 1.86G/2.47G [00:20<00:05, 122MB/s]\u001b[A\u001b[A\n",
      "model.safetensors:  73% 1.80G/2.47G [00:20<00:05, 123MB/s]\u001b[A\n",
      "model.safetensors:  74% 1.82G/2.47G [00:20<00:04, 133MB/s]\u001b[A\n",
      "\n",
      "consolidated.00.pth:  76% 1.88G/2.47G [00:20<00:04, 126MB/s]\u001b[A\u001b[A\n",
      "model.safetensors:  75% 1.85G/2.47G [00:20<00:04, 126MB/s]\u001b[A\n",
      "\n",
      "consolidated.00.pth:  77% 1.90G/2.47G [00:20<00:04, 120MB/s]\u001b[A\u001b[A\n",
      "model.safetensors:  76% 1.87G/2.47G [00:20<00:04, 125MB/s]\u001b[A\n",
      "\n",
      "consolidated.00.pth:  78% 1.92G/2.47G [00:20<00:04, 116MB/s]\u001b[A\u001b[A\n",
      "model.safetensors:  76% 1.89G/2.47G [00:20<00:04, 135MB/s]\u001b[A\n",
      "\n",
      "consolidated.00.pth:  78% 1.94G/2.47G [00:20<00:04, 119MB/s]\u001b[A\u001b[A\n",
      "model.safetensors:  77% 1.91G/2.47G [00:20<00:03, 150MB/s]\u001b[A\n",
      "\n",
      "consolidated.00.pth:  79% 1.96G/2.47G [00:20<00:03, 130MB/s]\u001b[A\u001b[A\n",
      "model.safetensors:  78% 1.93G/2.47G [00:21<00:03, 150MB/s]\u001b[A\n",
      "\n",
      "consolidated.00.pth:  80% 1.98G/2.47G [00:21<00:03, 138MB/s]\u001b[A\u001b[A\n",
      "model.safetensors:  79% 1.95G/2.47G [00:21<00:03, 153MB/s]\u001b[A\n",
      "\n",
      "consolidated.00.pth:  81% 2.01G/2.47G [00:21<00:02, 159MB/s]\u001b[A\u001b[A\n",
      "model.safetensors:  80% 1.97G/2.47G [00:21<00:03, 153MB/s]\u001b[A\n",
      "\n",
      "consolidated.00.pth:  82% 2.03G/2.47G [00:21<00:02, 168MB/s]\u001b[A\u001b[A\n",
      "model.safetensors:  81% 1.99G/2.47G [00:21<00:03, 153MB/s]\u001b[A\n",
      "\n",
      "consolidated.00.pth:  83% 2.06G/2.47G [00:21<00:02, 162MB/s]\u001b[A\u001b[A\n",
      "model.safetensors:  81% 2.01G/2.47G [00:21<00:02, 163MB/s]\u001b[A\n",
      "\n",
      "consolidated.00.pth:  84% 2.08G/2.47G [00:21<00:02, 168MB/s]\u001b[A\u001b[A\n",
      "model.safetensors:  82% 2.03G/2.47G [00:21<00:02, 153MB/s]\u001b[A\n",
      "\n",
      "consolidated.00.pth:  85% 2.10G/2.47G [00:21<00:02, 161MB/s]\u001b[A\u001b[A\n",
      "model.safetensors:  83% 2.06G/2.47G [00:21<00:02, 149MB/s]\u001b[A\n",
      "\n",
      "consolidated.00.pth:  86% 2.12G/2.47G [00:21<00:02, 155MB/s]\u001b[A\u001b[A\n",
      "model.safetensors:  84% 2.08G/2.47G [00:21<00:02, 150MB/s]\u001b[A\n",
      "\n",
      "consolidated.00.pth:  87% 2.14G/2.47G [00:22<00:02, 125MB/s]\u001b[A\u001b[A\n",
      "model.safetensors:  85% 2.10G/2.47G [00:22<00:03, 121MB/s]\u001b[A\n",
      "\n",
      "consolidated.00.pth:  87% 2.16G/2.47G [00:22<00:02, 124MB/s]\u001b[A\u001b[A\n",
      "model.safetensors:  86% 2.12G/2.47G [00:22<00:02, 126MB/s]\u001b[A\n",
      "\n",
      "consolidated.00.pth:  88% 2.18G/2.47G [00:22<00:02, 124MB/s]\u001b[A\u001b[A\n",
      "model.safetensors:  87% 2.14G/2.47G [00:22<00:02, 126MB/s]\u001b[A\n",
      "\n",
      "consolidated.00.pth:  89% 2.20G/2.47G [00:22<00:02, 125MB/s]\u001b[A\u001b[A\n",
      "model.safetensors:  87% 2.16G/2.47G [00:22<00:02, 126MB/s]\u001b[A\n",
      "\n",
      "consolidated.00.pth:  90% 2.22G/2.47G [00:27<00:17, 14.2MB/s]\u001b[A\u001b[A\n",
      "\n",
      "consolidated.00.pth:  92% 2.26G/2.47G [00:27<00:08, 25.5MB/s]\u001b[A\u001b[A\n",
      "model.safetensors:  88% 2.18G/2.47G [00:27<00:21, 13.7MB/s]\u001b[A\n",
      "\n",
      "consolidated.00.pth:  93% 2.30G/2.47G [00:27<00:04, 35.9MB/s]\u001b[A\u001b[A\n",
      "model.safetensors:  89% 2.20G/2.47G [00:27<00:14, 18.7MB/s]\u001b[A\n",
      "\n",
      "consolidated.00.pth:  94% 2.32G/2.47G [00:27<00:03, 44.1MB/s]\u001b[A\u001b[A\n",
      "model.safetensors:  90% 2.22G/2.47G [00:27<00:09, 25.8MB/s]\u001b[A\n",
      "\n",
      "consolidated.00.pth:  95% 2.34G/2.47G [00:27<00:02, 53.2MB/s]\u001b[A\u001b[A\n",
      "model.safetensors:  91% 2.24G/2.47G [00:27<00:06, 34.3MB/s]\u001b[A\n",
      "\n",
      "consolidated.00.pth:  95% 2.36G/2.47G [00:27<00:01, 63.4MB/s]\u001b[A\u001b[A\n",
      "model.safetensors:  92% 2.26G/2.47G [00:27<00:04, 45.5MB/s]\u001b[A\n",
      "\n",
      "consolidated.00.pth:  96% 2.38G/2.47G [00:28<00:01, 77.1MB/s]\u001b[A\u001b[A\n",
      "model.safetensors:  92% 2.29G/2.47G [00:28<00:03, 57.2MB/s]\u001b[A\n",
      "\n",
      "consolidated.00.pth:  97% 2.40G/2.47G [00:28<00:00, 91.7MB/s]\u001b[A\u001b[A\n",
      "model.safetensors:  93% 2.31G/2.47G [00:28<00:02, 69.3MB/s]\u001b[A\n",
      "\n",
      "consolidated.00.pth:  98% 2.42G/2.47G [00:28<00:00, 105MB/s] \u001b[A\u001b[A\n",
      "model.safetensors:  94% 2.33G/2.47G [00:28<00:01, 82.7MB/s]\u001b[A\n",
      "\n",
      "consolidated.00.pth:  99% 2.44G/2.47G [00:28<00:00, 121MB/s]\u001b[A\u001b[A\n",
      "model.safetensors:  95% 2.35G/2.47G [00:28<00:01, 99.1MB/s]\u001b[A\n",
      "\n",
      "consolidated.00.pth: 100% 2.46G/2.47G [00:28<00:00, 126MB/s]\u001b[A\u001b[A\n",
      "consolidated.00.pth: 100% 2.47G/2.47G [00:28<00:00, 86.5MB/s]\n",
      "Download complete. Moving file to Llama-3.2-1B-Instruct/original/consolidated.00.pth\n",
      "\n",
      "model.safetensors:  97% 2.40G/2.47G [00:28<00:00, 146MB/s]\u001b[A\n",
      "model.safetensors:  98% 2.43G/2.47G [00:28<00:00, 169MB/s]\u001b[A\n",
      "model.safetensors: 100% 2.47G/2.47G [00:29<00:00, 85.2MB/s]\n",
      "Download complete. Moving file to Llama-3.2-1B-Instruct/model.safetensors\n",
      "Fetching 13 files: 100% 13/13 [00:29<00:00,  2.25s/it]\n",
      "/content/Llama-3.2-1B-Instruct\n"
     ]
    }
   ],
   "source": [
    "\n",
    "!huggingface-cli download meta-llama/Llama-3.2-1B-Instruct --local-dir Llama-3.2-1B-Instruct"
   ]
  },
  {
   "cell_type": "code",
   "execution_count": null,
   "metadata": {
    "id": "n-EqjKcy78FM"
   },
   "outputs": [],
   "source": []
  },
  {
   "cell_type": "code",
   "execution_count": 30,
   "metadata": {
    "executionInfo": {
     "elapsed": 22,
     "status": "ok",
     "timestamp": 1741541271228,
     "user": {
      "displayName": "Himanshu Tahelyani",
      "userId": "02216693148548812411"
     },
     "user_tz": 240
    },
    "id": "wuX4wU7Zlbl5"
   },
   "outputs": [],
   "source": [
    "LLAMA_MODEL_PATH = \"Llama-3.2-1B-Instruct\""
   ]
  },
  {
   "cell_type": "code",
   "execution_count": 31,
   "metadata": {
    "executionInfo": {
     "elapsed": 6142,
     "status": "ok",
     "timestamp": 1741541277664,
     "user": {
      "displayName": "Himanshu Tahelyani",
      "userId": "02216693148548812411"
     },
     "user_tz": 240
    },
    "id": "O-PH5j7OkGMQ"
   },
   "outputs": [],
   "source": [
    "tokenizer = AutoTokenizer.from_pretrained(LLAMA_MODEL_PATH, trust_remote_code=True, local_files_only=True)\n",
    "llama_model = AutoModelForCausalLM.from_pretrained(\n",
    "        LLAMA_MODEL_PATH,\n",
    "        trust_remote_code=True,\n",
    "        low_cpu_mem_usage=True,\n",
    "        device_map=\"auto\",\n",
    "        offload_folder=\"offload\",        # Ensure this folder exists or can be created.\n",
    "        offload_state_dict=True\n",
    ")"
   ]
  },
  {
   "cell_type": "code",
   "execution_count": 32,
   "metadata": {
    "colab": {
     "base_uri": "https://localhost:8080/"
    },
    "executionInfo": {
     "elapsed": 32,
     "status": "ok",
     "timestamp": 1741541277710,
     "user": {
      "displayName": "Himanshu Tahelyani",
      "userId": "02216693148548812411"
     },
     "user_tz": 240
    },
    "id": "ZY6pkwmYlcqn",
    "outputId": "e22d77f6-3c80-446a-b696-e58292319891"
   },
   "outputs": [
    {
     "name": "stderr",
     "output_type": "stream",
     "text": [
      "Device set to use cuda:0\n"
     ]
    }
   ],
   "source": [
    "chat_pipeline = pipeline(\n",
    "    \"text-generation\",\n",
    "    model=llama_model,\n",
    "    tokenizer=tokenizer,\n",
    "    torch_dtype=torch.bfloat16,\n",
    "    device_map=\"auto\"\n",
    ")\n"
   ]
  },
  {
   "cell_type": "code",
   "execution_count": 33,
   "metadata": {
    "executionInfo": {
     "elapsed": 3,
     "status": "ok",
     "timestamp": 1741541277715,
     "user": {
      "displayName": "Himanshu Tahelyani",
      "userId": "02216693148548812411"
     },
     "user_tz": 240
    },
    "id": "iAa0EJB0mI45"
   },
   "outputs": [],
   "source": [
    "class ChatHuggingFace:\n",
    "    def __init__(self, llm):\n",
    "        self.llm = llm\n",
    "\n",
    "    def __call__(self, prompt):\n",
    "        if not isinstance(prompt, list):\n",
    "            prompt = [{\"role\": \"user\", \"content\": str(prompt)}]\n",
    "        outputs = self.llm(prompt, max_new_tokens=256)\n",
    "        generated = outputs[0][\"generated_text\"]\n",
    "        return generated\n",
    "\n",
    "chat_model = ChatHuggingFace(chat_pipeline)"
   ]
  },
  {
   "cell_type": "code",
   "execution_count": 43,
   "metadata": {
    "executionInfo": {
     "elapsed": 18,
     "status": "ok",
     "timestamp": 1741541530097,
     "user": {
      "displayName": "Himanshu Tahelyani",
      "userId": "02216693148548812411"
     },
     "user_tz": 240
    },
    "id": "GbzrrRzLnJnn"
   },
   "outputs": [],
   "source": [
    "def summarize_abstract(content: str, query: str) -> str:\n",
    "    prompt = (\n",
    "        \"You are Northeastern's university student visa assistant.\\n\"\n",
    "        f\"Query: {query}\\n\"\n",
    "        f\"Content: {content}\\n\"\n",
    "        \"If the query can be answered with the context provided in the content, frame an answer. \"\n",
    "        \"Otherwise, state: 'As an Northeastern's OGS assistant I do not have an answer to that question.'\"\n",
    "    )\n",
    "    messages = [{\"role\": \"user\", \"content\": prompt}]\n",
    "    response = chat_model(messages)\n",
    "    return response\n"
   ]
  },
  {
   "cell_type": "code",
   "execution_count": 67,
   "metadata": {
    "colab": {
     "base_uri": "https://localhost:8080/"
    },
    "executionInfo": {
     "elapsed": 22293,
     "status": "ok",
     "timestamp": 1741542140574,
     "user": {
      "displayName": "Himanshu Tahelyani",
      "userId": "02216693148548812411"
     },
     "user_tz": 240
    },
    "id": "c9WNgFPQmItE",
    "outputId": "c8815cc4-918d-40c2-fa3f-4f1b64d3b338"
   },
   "outputs": [
    {
     "name": "stderr",
     "output_type": "stream",
     "text": [
      "Setting `pad_token_id` to `eos_token_id`:128001 for open-end generation.\n"
     ]
    }
   ],
   "source": [
    "output = summarize_abstract(combined_content, query)"
   ]
  },
  {
   "cell_type": "code",
   "execution_count": 68,
   "metadata": {
    "colab": {
     "base_uri": "https://localhost:8080/"
    },
    "executionInfo": {
     "elapsed": 98,
     "status": "ok",
     "timestamp": 1741542140677,
     "user": {
      "displayName": "Himanshu Tahelyani",
      "userId": "02216693148548812411"
     },
     "user_tz": 240
    },
    "id": "wa5FUju9wgua",
    "outputId": "338ff043-5585-42e3-a704-ad7126720906"
   },
   "outputs": [
    {
     "name": "stdout",
     "output_type": "stream",
     "text": [
      "[{'role': 'user', 'content': \"You are Northeastern's university student visa assistant.\\nQuery: Can i do a part time 20hr week internship or Coop?\\nContent: Students Studying in \\n\\t\\t\\t\\t\\t\\t\\t\\t\\t\\t\\t\\t\\t\\t\\t\\t\\t\\t\\t\\t\\t\\t\\t\\tThe United States Summer Term At Northeastern, classes run year-round. However, not all students are required or choose to study during the summer term. Whether you plan to study or travel, it is important to maintain your status in the summer. You can learn more below. Summer Enrollment at Northeastern During required academic terms, F-1 and J-1 students must maintain full-time enrollment and appropriate on-ground presence. While the summer term is considered a vacation term for most continuing students, some students are required to maintain full-time enrollment in the summer. Please read the following information carefully to make sure you understand your summer enrollment requirements. What summer terms are available at Northeastern? CPS Undergraduate students and School of Law Students Full Summer CPS Graduate Students Summer Quarter All other Undergraduate and Graduate students Full Summer Summer 1* Summer 2* *Degree-seeking students that are eligible to enroll in summer 1 only or summer 2 only may enroll in half of their typical full-time enrollment requirement (6 credits for undergraduate students and 4 credits for graduate students). When do students have to maintain full-time enrollment and on-ground presence during the summer? You are required to maintain full-time enrollment and on-ground presence during the summer term(s) if: It is your first term of enrollment at NU and you have an Initial or Transfer I-20/DS-2019 It is your first term of enrollment after an approved change of degree level (CDL) or change of status (COS) It is your final academic term It is required for all students in your degree program You are returning to NU after a leave of absence You are a PhD student receiving university funding (SGA, Fellowship, etc.) If you are required to maintain full-time enrollment during the summer term you must follow all requirements found on the Maintaining Status page of the OGS website If you are required to maintain full-time enrollment during the summer term and have been offered on-campus employment or have received a Stipended Graduate Assistantship (SGA) , you may not work more than 20 hours/week Summer enrollment in your first term If the summer term is your first term of enrollment at Northeastern, you are correcting status and have an Initial I-20/DS-2019, or it is your first term after an approved Change of Degree Level (CDL) or Change of Status (COS), you must maintain full-time enrollment and appropriate on-ground presence for the duration of the summer term(s). Enrollment in on-ground courses must occur during all parts of the term. Online-only enrollment or no enrollment during a part of term (first half/second half) is not an acceptable way to maintain nonimmigrant status Please note: If you are eligible to begin your program begin in summer 1 you are not eligible for a vacation period in summer 2 If your program begins in summer 2 (student athletes, Doctorate of Physical Therapy students, etc.), please consult directly with your academic advisor for requirements on full time enrollment You can maintain your F-1 or J-1 status according to the Guidelines on Maintaining Status provided by OGS. Summer enrollment in your final term If the summer is your final term of enrollment at Northeastern and you are not completing your program overseas, you must maintain full time enrollment with appropriate on-ground presence throughout the duration of your final term. Please note that students who are eligible to complete their program during summer 2 may elect to utilize summer 1 as a vacation term. F-1 Students eligible to complete their program in summer 1 : Your I-20 end date will be shortened to reflect the end of summer 1 J-1 Students eligible to complete their program in summer 1 : Your DS-2019 end date will be shortened to reflect the end of summer 1 if you do not plan to apply for post-completion Academic Training (AT) All CPS undergraduate students, CPS graduate students, and School of Law students completing in the summer term must maintain full-time enrollment and on-ground presence for the duration of the full summer term Enrollment in on-ground courses must occur during all parts of the term. Online-only enrollment or no enrollment during a part of term (first half/second half) is not an acceptable way to maintain nonimmigrant status As students in their final term before graduation may be eligible for a final term reduced course load (RCL), please review the “Final Term” guidelines provided by OGS to understand how to maintain your student status. Summer Travel If you plan to travel during the summer term, please review all the travel guidance provided by OGS. Key Resources Travel Signature Request » This is to request a travel endorsement on your I-20 or DS-2019. Related Articles: Guidelines on Maintaining Status Final Term Navigate this Page: Frequently Asked Questions » Frequently Asked Questions × If I maintain full-time enrollment with on-ground presence during the summer term(s) can this term be considered as accrued time toward eligibility for F-1/J-1 benefits for work authorization? Some benefits require you to have been enrolled full-time in F-1 or J-1 status for a certain number of semesters/quarters in order to be eligible. You may count the summer term towards this requirement if you are enrolled full-time in the full summer or in the summer quarter; part-time summer enrollment and enrollment in summer 1 or summer 2 only cannot be counted towards eligibility for these benefits. If the summer is not required for me, can I still enroll in classes? Yes! You may enroll in both in-person and online courses at your leisure. However, if you plan to engage in any practical training opportunities, you must receive employment authorization.Students Studying in \\n\\t\\t\\t\\t\\t\\t\\t\\t\\t\\t\\t\\t\\t\\t\\t\\t\\t\\t\\t\\t\\t\\t\\t\\tThe United States F-1 Curricular Practical Training (CPT) Curricular Practical Training (CPT) is a benefit for eligible F-1 students to authorize approved experiential learning that takes place in the U.S. or with a U.S. based employer. Understanding Curricular Practical Training (CPT) CPT is a form of curricular training authorization available for eligible F-1 students during their program of study for experiential learning opportunities that are necessary and integral, or required, as part of an academic program at Northeastern University. CPT authorization must be obtained for every co-op, internship, practicum, clinical rotation, corporate residency, experiential PhD, or other approved experiential learning opportunity CPT authorization is required prior to the intended start date of the experiential learning , whether or not the activity takes place on-campus or off-campus CPT can be either full-time (more than 20 hours per week) or part-time (20 hours or less per week) CPT can be either paid or unpaid CPT is employer, location, full-time/part-time, and date specific. The employer’s name, address and the precise start and end dates must be authorized by OGS in advance Students must maintain on-ground presence during every required term of study. This includes any required term when a student is authorized for CPT Once authorized for CPT, F-1 students must comply with the authorization granted. Any extensions, cancellations, or changes to authorized CPT must be first approved by the academic advisor/co-op coordinator and OGS. Non-curricular based on-campus activities (commonly referred to as “on-campus employment”) do not require CPT authorization. If you have any questions about how this applies to you, please contact OGS. If you are a student considering volunteering or engaging in unpaid internships at Northeastern or a staff/faculty looking to hire a volunteer or unpaid intern, please review this guidance from Northeastern’s University Office of General Counsel. Eligibility Requirements In order to be eligible for CPT, students must meet all of the following requirements Comply with all college academic and enrollment eligibility requirements and policies for experiential learning This includes every co-op, internship, practicum, clinical rotation, corporate residency, experiential PhD, or other experiential learning opportunity, whether the activity takes place on-campus or off-campus Enroll in a course that requires an experiential learning component in the syllabus. This will usually be a Co-op course or another program-required course Enrollment must be maintained for the entire period of authorized CPT Complete at least one academic year as a full-time, degree-seeking student with an active SEVIS record* One academic year is defined as two semesters or three quarters while maintaining on-ground presence Time spent in Prematriculation and Pathway programs (including N.U.in, Foundation Year, NU Immerse, Global Scholars, and Global Pathways) will not accrue time toward CPT eligibility. Students enrolled in such programs will only begin to accrue time toward CPT eligibility once they have fully matriculated into a degree-seeking program *Limited exceptions to the completion of one academic year may apply in the following circumstances: For students in graduate-level programs that require immediate participation in experiential learning for program completion For students who completed one academic year in another visa status or institution changed to F-1 status within the U.S. or by travel and re-entry, who otherwise qualify Change of Status and SEVIS Transfer Students please review “Change of Status and Transfer Students” below for more information Maintain full-time enrollment and on-ground presence during every required term of study Review the OGS Guidelines on Maintaining Status for more information A huge part of your responsibility of maintaining your F-1 status is by actively participating in your academic activities in person. Therefore, OGS does not recommend that any F-1 student be absent from the U.S. for an extended period during the academic term. As an international student, this prolonged absence may impact your F-1 status and your long-term academic goals as well as future immigration benefits. Make normal progress towards degree completion CPT authorization must not cause a delay in the completion of a student’s academic program Maintaining On-Ground Presence when Authorized for CPT F-1 international students must maintain on-ground presence during every required academic term of study to maintain nonimmigrant student status . This includes any required term when a student is engaged in full-time practical training/experiential learning that requires Curricular Practical Training (CPT) authorization. Students are not required to maintain on-ground presence during non-required terms. Defined Practical Experience Methods: In person (Traditional): All engagement takes place on site at the employer’s physical location Hybrid: The majority of the engagement takes place on site at the employer’s physical location Remote (Online): The majority of the engagement takes place remotely, and there is limited or no engagement at the employer’s physical location Full-Time Experiential Learning with CPT Authorization To maintain on-ground presence during a required term while pursuing full-time experiential learning, students have the following options: Option 1 : Engaging on-site (in person) at the employer’s physical location. This can be in-person or hybrid, as defined above Students will be maintaining on-ground presence based on their engagement with the employer Option 2 : Engaging remotely with the employer with simultaneous enrollment in a university designated on-ground course Students should enroll in an on-ground course stipulated by their academic program, which must run for the duration of the required academic term. Students should work with their academic department/advisor/co-op advisor to identify a course that is appropriate. Co-op students only : Students engaging in a remote co-op will be enrolled in a 0-credit (no cost) in-person EXED course. This course will not be counted toward major requirements. If you have questions about this course, please contact your co-op/career advisor. Part-Time Experiential Learning with CPT Authorization F-1 Students engaged remotely in part-time practical training/experiential learning must couple their part-time practical experience course enrollment with only on-ground courses to meet both the on-ground requirement and the full-time status requirement. As such, students engaging in part-time co-ops are not eligible to maintain their on-ground presence through the EXED course and may not enroll in online classes to meet the minimum credit requirements for the term. Experiential Learning with an Overseas Employer with CPT Authorization F-1 students engaging in remote practical training with an overseas employer from inside the U.S. are required to obtain CPT authorization and maintain their on-ground presence through simultaneous enrollment in a university designated on-ground course, as described above. Failure to Maintain On-Ground Presence If an F-1 student withdraws from or fails to attend their on-ground course while engaging in remote practical training, it will be considered a violation of status and the student’s F-1 non-immigrant status will be terminated. Regardless of the modality of the practical experience, students need regular engagement with both the practical training provider as well as the academic program to confirm successful progression of the practical training experience. Travel during Experiential Learning Engaging on-site at your employer’s physical location or participating in a university designated on-ground course is a mandatory to maintain the on-ground presence required by your F-1 student status. Therefore, OGS does not recommend that any F-1 student be absent from the U.S. for an extended period during the academic term, as their F-1 status and academic goals may be negatively impacted. In cases where travel outside of the U.S. cannot be avoided, we highly recommend that students limit their absence from the U.S. and in-person classes as much as possible. If students choose to travel during a required term, they are taking on the associated risks, including but not limited to scrutiny by Customs and Border Protection (CBP) upon re-entry to the U.S. as well as scrutiny when applying for future immigration status or benefits. Application Process To participate in an experiential learning opportunity in the U.S., F-1 students must obtain CPT authorization from OGS. All CPT requests must first be academically reviewed, approved, and determined to be integral or required for degree completion, by the appropriate advisor, co-op coordinator, or authorized secondary approver. Step 1: Student completes the CPT Authorization Request e-form The student must fill out the CPT Authorization Request e-form. The documents the student will need include: Electronic I-94 (“Class of Admission” must be F-1 and “Admit Until Date” must indicate “D/S”) Passport identity page that is valid at least until the start date of the CPT authorization When the student has submitted the e-form it will be routed to the secondary approver as indicated in the e-form. Step 2: Secondary approver reviews student's CPT e-form submission The Authorized Secondary Approver (CPT) who receives the request will review the information the student has entered and determine if they approve it academically as either integral or required for program completion. If approved, the Authorized Secondary Approver will submit the request to OGS. If the Authorized Secondary Approver does not approve of the request, they will email the student directly regarding their decision. See below for Authorized Secondary Approver Lists : Undergraduate Students Graduate Students Step 3: OGS reviews completed CPT e-form submission Upon receipt of the completed e-form from the Secondary Approver, OGS will review the CPT request within 15 business days. OGS will examine the student’s documents to determine if they meet all F-1 eligibility requirements for CPT. OGS may place the request on hold and email the student/advisor for more information or approve/deny the CPT request. Step 4: Student receives updated I-20 with CPT recommendation If your CPT request is approved, a Designated School Official (DSO) from OGS will send the I-20 electronically to your Northeastern University email. You are advised to: Review your I-20 to ensure all information is accurate and complete Print and sign your I-20 Only work within the listed start and end dates on your I-20 Updating or changing your CPT authorization While on CPT, any updates, extensions, changes, or cancellations to your employment must be reported to and approved both by your academic/co-op advisor and by a DSO in OGS. These changes include: Employer Location Date Number of hours worked per week (full-time/part-time) Cancellations Other corrections Once authorized for CPT, F-1 students must comply with the authorization granted. How CPT affects OPT Eligibility If an F-1 student exceeds 364 days of full-time CPT (more than 20 hours per week at a degree level—bachelor’s, master’s or doctorate), they will lose their eligibility to apply for Optional Practical Training (OPT) at that degree level. Part-time CPT (20 hours per week or less) does not accrue time towards the 364-day calculation. When counting CPT days, every day between the start and end date of CPT is included (including the start and end dates). The days that are counted are the days that the student had authorization, not the days the student actually worked. This means even if it was a weekend, holiday, vacation etc., it still counts if the student had CPT authorization. It is the responsibility of the student to track of how many full-time CPT days have been used per degree level. Students can use previously issued I-20s to document this. Students may also request a summary of their CPT authorization history at Northeastern from OGS via this e-form . As a reminder, CPT is a benefit of F-1 status, not a guarantee. While students may be able to work up to 364 days while maintaining OPT eligibility, CPT authorization is directly tied to a student’s academic curriculum. Therefore, the amount of CPT for which students are eligible and may be authorized is entirely based on their program of study, as well as F-1 federal regulations. Simply because an F-1 student has not engaged in 364 days of full-time CPT does not necessarily mean the student is eligible for additional CPT or an extension of a current CPT authorization. Change of Status and SEVIS Transfer Students Change of Status Students Full-time students who have applied to change their immigration status to F-1 within the U.S. (application through USICS) or by traveling (via consular processing) may be eligible to use time from a previous immigration status towards accruing benefits, such as CPT, as long as the student has previously maintained full-time enrollment requirements. Please contact OGS to make an appointment with a DSO to discuss CPT eligibility and bring all applicable documentation with you (e.g. official transcripts, a copy of your I-797 approval notice if you changed status within the U.S.). SEVIS Transfer Students International students with Active F-1 records who transfer their SEVIS record to Northeastern University may be eligible to use enrolled time at the previous institution towards the one academic year requirement for CPT eligibility. Please contact OGS to make an appointment with a DSO to discuss CPT eligibility and have all applicable documentation available (e.g. official transcripts and your previous I-20) Key Resources CPT Authorization Request Form » This e-form is to request authorization for Curricular Practical Training. CPT Update e-form » This form is intended only for updates to existing CPT authorization – it is not intended for students who are requesting new periods of CPT authorization or who are trying to extend their CPT authorization for new academic terms. CPT Authorization History Request » This e-form is to request the number of days authorized for CPT. Related Articles: Social Security Number Unauthorized Employment Navigate this Page: Frequently Asked Questions » Frequently Asked Questions × Can I request CPT authorization in my final term of study? The Office of Global Services will only authorize CPT in a student’s final term if the practical training experience is required for degree completion. Can I request CPT authorization for my independent study course? Independent study courses do not qualify for CPT authorization. Do I need CPT authorization for an internship or co-op that is unpaid? Yes! All work associated with an experiential learning opportunity requires CPT authorization, even if it is unpaid. Is there a limit to the number of hours per week I can work while authorized for CPT? In order to know the answer to this, you will need to understand what kind of CPT authorization you have. You can find this information on the second page of your I-20. If your I-20 states you have part-time CPT, then this means you can never exceed 20 hours per week. If your I-20 states you have full-time CPT, then this means there is no limit to the number of hours per week you can work. However, you must always check with your advisor or co-op coordinator to see if they have a limit to the number of hours per week you can work. Do I need CPT authorization for training dates that occur prior to employment? Yes, all training dates require prior CPT authorization. Remember, even time spend while you are not being paid requires CPT authorization. How will I know if I have received CPT authorization? You will know if you have CPT authorization by checking the second page of your most recent I-20. On the second page of your I-20, you will see all the details of your employment authorization. Can I take additional courses while I'm participating in a co-op/internship/clinical rotation? If you would like to enroll in courses while you are participating in a co-op/internship/clinical rotation, you must check with your co-op department or advisor to see if there are academic or university restrictions that would prevent you from doing so. Can I have an on-campus job while I am authorized for CPT during a co-op/internship/clinical rotation? Yes, students are allowed to work on-campus while they also have CPT. However, students are not allowed to work on an SGA (Stipended Graduate Assistantship) and be authorized for CPT for a paid experience at the same time. Please keep in mind that some colleges may not allow you to work on-campus and be on coop at the same time or may have restrictions on how much on-campus employment is allowed while on coop. If this is the case, you will need to follow your co-op department’s rules. My employer offered to extend my co-op/internship on a part-time basis. Can I do this? If your employer offers to extend your co-op/internship on a part-time basis, you must inquire with your academic department to determine if the extension is curricular and is integral to your course of study. If it is determined that the continuation of your co-op/internship is integral to your course of study, you may be eligible to request CPT authorization again. If the continuation of the co-op/internship is not supported academically, you may be eligible to apply for Pre-Completion Optional Practical Training (Pre-OPT). Does part-time CPT count towards the 364 day mark that affects my OPT eligibility? No, part-time CPT authorization does not count towards the 364 days of authorization that would impact OPT eligibility. How can I find out how much CPT time I've used? You can calculate how much CPT time you’ve used by looking at past I-20s. You can also request documentation of your previous CPT authorizations from OGS by filling out the following e-form. Do I need CPT authorization if Northeastern is my employer during co-op/internship/clinical rotation? Students must be authorized for CPT for any experiential learning they conduct, on- or off-campus, paid or unpaid. Students who pursue experiential learning with Northeastern as their employer require CPT authorization. Can I end my CPT earlier than the original end date? Students must consult with their co-op and/or academic advisor if there will be any changes to their approved Co-op/CPT employment in order to ensure that all academic requirements will be met (this link is specific to Co-op requirements). Then, students must follow up with OGS by completing the CPT Update E-form to report changes to OGS in order to receive an updated I-20. How do I find who my authorized secondary approver for CPT is? Authorized secondary approvers are often co-op coordinators or academic advisors for programs that involve experiential learning other than co-op. The lists of authorized secondary approvers for CPT can be found here: Undergraduate students Graduate students I am pursuing a double/combined major. How do I know if my opportunity is eligible for CPT? Students are only eligible for CPT authorization if their opportunity is directly related to their major area of study. For students with double or combined majors, the opportunity may be related to either major. This criteria is confirmed by the students authorized secondary approver, as they have the required understanding about student’s major/curriculum to make this determination.Students Studying in \\n\\t\\t\\t\\t\\t\\t\\t\\t\\t\\t\\t\\t\\t\\t\\t\\t\\t\\t\\t\\t\\t\\t\\t\\tThe United States Volunteering and Unpaid Internships Northeastern University values experiential learning and serving our communities.  While volunteering may seem simple, it is actually a complex area in which immigration regulations and labor laws intersect. Complexities of volunteering If you are interested in volunteering, you must be aware of relevant F-1 and J-1 regulations, so you and the organization do not violate any rules regarding employment authorization. F-1 and J-1 students who are working off-campus must be authorized before engaging in the employment. Without proper authorization, off-campus employment, including some volunteering, would be considered a violation of your F-1 or J-1 requirements. The consequences may include loss of your F-1 or J-1 status in the U.S.—making it difficult to reacquire lawful status within the U.S. If you are considering engaging in a volunteering opportunity, please make an appointment with an OGS adviser before making plans to begin any activity. Volunteering vs. Unpaid Internship There is a difference between volunteering and engaging in an unpaid internship. Volunteering refers to donating time with an organization whose primary purpose is charitable or humanitarian in nature, without remuneration or any other type of compensation. F-1 and J-1 students are allowed to engage in volunteer work as long as it meets this stated criteria. For example, it is permitted for F-1 and J-1 students to volunteer at a local homeless shelter, charitable food pantry, or American Red Cross. Unpaid internships, on the other hand, do not usually qualify as “volunteer” activity. Internships, both paid and unpaid, are primarily offered by the private sector and related to the intern’s major field of study. Therefore, F-1 and J-1 students are advised to seek work authorization prior in order to engage in unpaid internships. The Department of Labor in the U.S. has guidelines for those seeking an unpaid internship, please see here , the “Primary Beneficiary Test” outlined on the Department of Labor’s website can be used to determine whether or not the unpaid internship is considered employment. Because of the consequences of unauthorized employment, we caution all F-1 and J-1 students to consult the Office of Global Services when considering engaging in an unpaid internship or volunteering opportunity. Please make an appointment with an OGS advisor before making plans to begin any activity. U.S. Department of Labor's definition volunteering The Department of Labor is concerned both with the protection of jobs for U.S citizens, and with the prevention of exploitation of workers. They have created laws to ensure employment that should be paid is not done for free. While both you and the employer may be happy with an unpaid arrangement (for example, you may be eager to work even on an unpaid basis in a company in order to gain job experience), this may be considered an unfair arrangement in cases where the work is normally performed by a paid person and both the company and the employee are benefiting from the employment. How to determine whether an activity is truly volunteering and does NOT require work authorization Employment authorization is NOT required when the work performed can be considered volunteering. To be considered volunteering, the work performed by the individual must meet the following criteria: No compensation or expectation of compensation The volunteer cannot displace a genuine employee and the services provided by the volunteer should not be the same services for which he or she was previously paid and/or expects to be hired and paid for in the future Services are performed for a non-profit charity and the work is “charitable” in nature Services are performed for a state or local government agency and there is a “civic” purpose to the work Volunteering at Northeastern If you are a student considering volunteering or engaging in unpaid internships at Northeastern or a staff/faculty looking to hire a volunteer or unpaid intern, please review this guidance from Northeastern University Office of General Counsel. Due to the complexity of U.S. labor laws: all university departments, who want to have students volunteer within their department, are advised to thoroughly review this resource. If they have further questions on whether or not the engagement is considered volunteering, they should check directly with the Office of General Counsel. Related Articles: F-1 Curricular Practical Training J-1 Academic Training Navigate this Page: Frequently Asked Questions » Frequently Asked Questions × Is it employment or volunteering? A common misconception is that the only difference is employees get paid and volunteers do not. However, according to U.S. labor laws, there is more to distinguish between employees and volunteers than whether an individual receives a regular paycheck or not. Work that is unpaid may still be considered employment that requires F-1 or J-1 off-campus work authorization. Who is considered an employee? The definition of an employee used in the context of immigration regulations is as follows: “An individual who provides services or labor for an employer for wages or other remuneration.” The term “remuneration” is very broad and includes a variety of non-monetary benefits, such as free housing, food, gifts, etc. Who is considered a volunteer? According to the Department of Labor, volunteers are individuals “who volunteer or donate their services, usually on a part-time basis, for public services, religious or humanitarian objectives, not as employees and without contemplation of pay, are not considered employees of the religious, charitable or similar non-profit organizations that receive their service.” To learn more, click here .Students Studying in \\n\\t\\t\\t\\t\\t\\t\\t\\t\\t\\t\\t\\t\\t\\t\\t\\t\\t\\t\\t\\t\\t\\t\\t\\tCanada Working While Studying Updated November 15th, 2024 Learn more about studying in Canada Work on Campus You can work on-campus as an international student without a Work Permit if you meet the three criteria below: You have a valid study permit with a condition allowing you to work ; You are a full-time student at Northeastern University; You have a Social Insurance Number (SIN) You must stop working on-campus: on the day you stop studying full-time when your study permit expires if you’re on an authorized leave from your studies if you’re switching schools and aren’t currently studying You can return to work only once you’re back to studying and you meet all the requirements to work on-campus. Please also be aware of the Northeastern University policies about working on campus as an international student. Students are only allowed to work 20 hours per week for an on-campus job during the school term, and up to 40 hours during scheduled breaks. Work off Campus Starting Nov 8, 2024, You can work off-campus as an international student without a Work Permit up to 24 hours per week or full-time during the scheduled school breaks if you meet the four criteria below: You have a valid study permit that includes a condition stating you may work off campus; You are a full-time student at Northeastern University; You have a Social Insurance Number (SIN); You need to have full time student status, before and after the scheduled break. For more information please see the IRCC webpage here . If you are a part time student You can work off-campus only if: You meet all the requirements above and You’re only studying part-time, instead of full time, because: You’re in the last semester of your program and you don’t need a full course load to complete your program and You were a full-time student in your program in Canada, up until your last semester Note: You can only start working on or off campus when you start your program. You can’t work before your studies begin. Co-op Work If work experience is a necessary and integral part of your program and you meet the college co-op program criteria, you may work full-time during their designated co-op term(s) .\\xa0 All NU programs are eligible for co-op. During your co-op term you must be cleared by your college for co-op, register for the co-op course, and have a valid co-op permit in hand. To check whether you may participate in the co-op program, please check your college website and/or contact your co-op coordinator. To check how to apply for a co-op work permit, please v isit here . To request a co-op school letter, please contact our international student advisors at [email\\xa0protected] . Please note that this is for CURRENTLY ENROLLED students only. If you are an incoming student, you need to upload your POA as your proof of co-op during your program in your Study Permit application. Please do not email us for a co-op letter. Navigate this Page: Frequently Asked Questions ×Return from Leave of Absence Less Than 5 Months Return from Leave of Absence Less Than 5 Months » This is to request a new I-20 to resume classes after a leave of absence of less than 5 months Navigate this Page: Frequently Asked Questions ×\\nIf the query can be answered with the context provided in the content, frame an answer. Otherwise, state: 'As an Northeastern's OGS assistant I do not have an answer to that question.'\"}, {'role': 'assistant', 'content': \"As an Northeastern's OGS assistant, I can provide guidance on the different types of internships and co-ops available to F-1 and J-1 students.\\n\\nAccording to the content, a part-time 20-hour week internship or co-op is allowed. However, there are some conditions and requirements to be met:\\n\\n- If you are in your first term of enrollment at Northeastern, you must maintain full-time enrollment and on-ground presence during the summer term(s).\\n- If you are in your final term of enrollment, you must maintain full-time enrollment and on-ground presence throughout the duration of your final term.\\n- You must have a valid I-20 or DS-2019.\\n- You must have an approved change of degree level (CDL) or change of status (COS) or be returning to Northeastern after a leave of absence.\\n- You must be enrolled full-time in the full summer or in the summer quarter.\\n- You must be enrolled in a course that requires an experiential learning component in the syllabus.\\n- You must be enrolled in a course that requires an experiential learning component in the syllabus.\\n- You must have CPT authorization from OGS.\\n- You must be authorized for CPT for the entire duration\"}]\n"
     ]
    }
   ],
   "source": [
    "print(output)"
   ]
  },
  {
   "cell_type": "code",
   "execution_count": 69,
   "metadata": {
    "colab": {
     "base_uri": "https://localhost:8080/"
    },
    "executionInfo": {
     "elapsed": 132,
     "status": "ok",
     "timestamp": 1741542140807,
     "user": {
      "displayName": "Himanshu Tahelyani",
      "userId": "02216693148548812411"
     },
     "user_tz": 240
    },
    "id": "mzXvf3gEo3qc",
    "outputId": "9ae6d870-c9bc-442f-cde0-125c1d9f12f0"
   },
   "outputs": [
    {
     "name": "stdout",
     "output_type": "stream",
     "text": [
      "{'role': 'user', 'content': \"You are Northeastern's university student visa assistant.\\nQuery: Can i do a part time 20hr week internship or Coop?\\nContent: Students Studying in \\n\\t\\t\\t\\t\\t\\t\\t\\t\\t\\t\\t\\t\\t\\t\\t\\t\\t\\t\\t\\t\\t\\t\\t\\tThe United States Summer Term At Northeastern, classes run year-round. However, not all students are required or choose to study during the summer term. Whether you plan to study or travel, it is important to maintain your status in the summer. You can learn more below. Summer Enrollment at Northeastern During required academic terms, F-1 and J-1 students must maintain full-time enrollment and appropriate on-ground presence. While the summer term is considered a vacation term for most continuing students, some students are required to maintain full-time enrollment in the summer. Please read the following information carefully to make sure you understand your summer enrollment requirements. What summer terms are available at Northeastern? CPS Undergraduate students and School of Law Students Full Summer CPS Graduate Students Summer Quarter All other Undergraduate and Graduate students Full Summer Summer 1* Summer 2* *Degree-seeking students that are eligible to enroll in summer 1 only or summer 2 only may enroll in half of their typical full-time enrollment requirement (6 credits for undergraduate students and 4 credits for graduate students). When do students have to maintain full-time enrollment and on-ground presence during the summer? You are required to maintain full-time enrollment and on-ground presence during the summer term(s) if: It is your first term of enrollment at NU and you have an Initial or Transfer I-20/DS-2019 It is your first term of enrollment after an approved change of degree level (CDL) or change of status (COS) It is your final academic term It is required for all students in your degree program You are returning to NU after a leave of absence You are a PhD student receiving university funding (SGA, Fellowship, etc.) If you are required to maintain full-time enrollment during the summer term you must follow all requirements found on the Maintaining Status page of the OGS website If you are required to maintain full-time enrollment during the summer term and have been offered on-campus employment or have received a Stipended Graduate Assistantship (SGA) , you may not work more than 20 hours/week Summer enrollment in your first term If the summer term is your first term of enrollment at Northeastern, you are correcting status and have an Initial I-20/DS-2019, or it is your first term after an approved Change of Degree Level (CDL) or Change of Status (COS), you must maintain full-time enrollment and appropriate on-ground presence for the duration of the summer term(s). Enrollment in on-ground courses must occur during all parts of the term. Online-only enrollment or no enrollment during a part of term (first half/second half) is not an acceptable way to maintain nonimmigrant status Please note: If you are eligible to begin your program begin in summer 1 you are not eligible for a vacation period in summer 2 If your program begins in summer 2 (student athletes, Doctorate of Physical Therapy students, etc.), please consult directly with your academic advisor for requirements on full time enrollment You can maintain your F-1 or J-1 status according to the Guidelines on Maintaining Status provided by OGS. Summer enrollment in your final term If the summer is your final term of enrollment at Northeastern and you are not completing your program overseas, you must maintain full time enrollment with appropriate on-ground presence throughout the duration of your final term. Please note that students who are eligible to complete their program during summer 2 may elect to utilize summer 1 as a vacation term. F-1 Students eligible to complete their program in summer 1 : Your I-20 end date will be shortened to reflect the end of summer 1 J-1 Students eligible to complete their program in summer 1 : Your DS-2019 end date will be shortened to reflect the end of summer 1 if you do not plan to apply for post-completion Academic Training (AT) All CPS undergraduate students, CPS graduate students, and School of Law students completing in the summer term must maintain full-time enrollment and on-ground presence for the duration of the full summer term Enrollment in on-ground courses must occur during all parts of the term. Online-only enrollment or no enrollment during a part of term (first half/second half) is not an acceptable way to maintain nonimmigrant status As students in their final term before graduation may be eligible for a final term reduced course load (RCL), please review the “Final Term” guidelines provided by OGS to understand how to maintain your student status. Summer Travel If you plan to travel during the summer term, please review all the travel guidance provided by OGS. Key Resources Travel Signature Request » This is to request a travel endorsement on your I-20 or DS-2019. Related Articles: Guidelines on Maintaining Status Final Term Navigate this Page: Frequently Asked Questions » Frequently Asked Questions × If I maintain full-time enrollment with on-ground presence during the summer term(s) can this term be considered as accrued time toward eligibility for F-1/J-1 benefits for work authorization? Some benefits require you to have been enrolled full-time in F-1 or J-1 status for a certain number of semesters/quarters in order to be eligible. You may count the summer term towards this requirement if you are enrolled full-time in the full summer or in the summer quarter; part-time summer enrollment and enrollment in summer 1 or summer 2 only cannot be counted towards eligibility for these benefits. If the summer is not required for me, can I still enroll in classes? Yes! You may enroll in both in-person and online courses at your leisure. However, if you plan to engage in any practical training opportunities, you must receive employment authorization.Students Studying in \\n\\t\\t\\t\\t\\t\\t\\t\\t\\t\\t\\t\\t\\t\\t\\t\\t\\t\\t\\t\\t\\t\\t\\t\\tThe United States F-1 Curricular Practical Training (CPT) Curricular Practical Training (CPT) is a benefit for eligible F-1 students to authorize approved experiential learning that takes place in the U.S. or with a U.S. based employer. Understanding Curricular Practical Training (CPT) CPT is a form of curricular training authorization available for eligible F-1 students during their program of study for experiential learning opportunities that are necessary and integral, or required, as part of an academic program at Northeastern University. CPT authorization must be obtained for every co-op, internship, practicum, clinical rotation, corporate residency, experiential PhD, or other approved experiential learning opportunity CPT authorization is required prior to the intended start date of the experiential learning , whether or not the activity takes place on-campus or off-campus CPT can be either full-time (more than 20 hours per week) or part-time (20 hours or less per week) CPT can be either paid or unpaid CPT is employer, location, full-time/part-time, and date specific. The employer’s name, address and the precise start and end dates must be authorized by OGS in advance Students must maintain on-ground presence during every required term of study. This includes any required term when a student is authorized for CPT Once authorized for CPT, F-1 students must comply with the authorization granted. Any extensions, cancellations, or changes to authorized CPT must be first approved by the academic advisor/co-op coordinator and OGS. Non-curricular based on-campus activities (commonly referred to as “on-campus employment”) do not require CPT authorization. If you have any questions about how this applies to you, please contact OGS. If you are a student considering volunteering or engaging in unpaid internships at Northeastern or a staff/faculty looking to hire a volunteer or unpaid intern, please review this guidance from Northeastern’s University Office of General Counsel. Eligibility Requirements In order to be eligible for CPT, students must meet all of the following requirements Comply with all college academic and enrollment eligibility requirements and policies for experiential learning This includes every co-op, internship, practicum, clinical rotation, corporate residency, experiential PhD, or other experiential learning opportunity, whether the activity takes place on-campus or off-campus Enroll in a course that requires an experiential learning component in the syllabus. This will usually be a Co-op course or another program-required course Enrollment must be maintained for the entire period of authorized CPT Complete at least one academic year as a full-time, degree-seeking student with an active SEVIS record* One academic year is defined as two semesters or three quarters while maintaining on-ground presence Time spent in Prematriculation and Pathway programs (including N.U.in, Foundation Year, NU Immerse, Global Scholars, and Global Pathways) will not accrue time toward CPT eligibility. Students enrolled in such programs will only begin to accrue time toward CPT eligibility once they have fully matriculated into a degree-seeking program *Limited exceptions to the completion of one academic year may apply in the following circumstances: For students in graduate-level programs that require immediate participation in experiential learning for program completion For students who completed one academic year in another visa status or institution changed to F-1 status within the U.S. or by travel and re-entry, who otherwise qualify Change of Status and SEVIS Transfer Students please review “Change of Status and Transfer Students” below for more information Maintain full-time enrollment and on-ground presence during every required term of study Review the OGS Guidelines on Maintaining Status for more information A huge part of your responsibility of maintaining your F-1 status is by actively participating in your academic activities in person. Therefore, OGS does not recommend that any F-1 student be absent from the U.S. for an extended period during the academic term. As an international student, this prolonged absence may impact your F-1 status and your long-term academic goals as well as future immigration benefits. Make normal progress towards degree completion CPT authorization must not cause a delay in the completion of a student’s academic program Maintaining On-Ground Presence when Authorized for CPT F-1 international students must maintain on-ground presence during every required academic term of study to maintain nonimmigrant student status . This includes any required term when a student is engaged in full-time practical training/experiential learning that requires Curricular Practical Training (CPT) authorization. Students are not required to maintain on-ground presence during non-required terms. Defined Practical Experience Methods: In person (Traditional): All engagement takes place on site at the employer’s physical location Hybrid: The majority of the engagement takes place on site at the employer’s physical location Remote (Online): The majority of the engagement takes place remotely, and there is limited or no engagement at the employer’s physical location Full-Time Experiential Learning with CPT Authorization To maintain on-ground presence during a required term while pursuing full-time experiential learning, students have the following options: Option 1 : Engaging on-site (in person) at the employer’s physical location. This can be in-person or hybrid, as defined above Students will be maintaining on-ground presence based on their engagement with the employer Option 2 : Engaging remotely with the employer with simultaneous enrollment in a university designated on-ground course Students should enroll in an on-ground course stipulated by their academic program, which must run for the duration of the required academic term. Students should work with their academic department/advisor/co-op advisor to identify a course that is appropriate. Co-op students only : Students engaging in a remote co-op will be enrolled in a 0-credit (no cost) in-person EXED course. This course will not be counted toward major requirements. If you have questions about this course, please contact your co-op/career advisor. Part-Time Experiential Learning with CPT Authorization F-1 Students engaged remotely in part-time practical training/experiential learning must couple their part-time practical experience course enrollment with only on-ground courses to meet both the on-ground requirement and the full-time status requirement. As such, students engaging in part-time co-ops are not eligible to maintain their on-ground presence through the EXED course and may not enroll in online classes to meet the minimum credit requirements for the term. Experiential Learning with an Overseas Employer with CPT Authorization F-1 students engaging in remote practical training with an overseas employer from inside the U.S. are required to obtain CPT authorization and maintain their on-ground presence through simultaneous enrollment in a university designated on-ground course, as described above. Failure to Maintain On-Ground Presence If an F-1 student withdraws from or fails to attend their on-ground course while engaging in remote practical training, it will be considered a violation of status and the student’s F-1 non-immigrant status will be terminated. Regardless of the modality of the practical experience, students need regular engagement with both the practical training provider as well as the academic program to confirm successful progression of the practical training experience. Travel during Experiential Learning Engaging on-site at your employer’s physical location or participating in a university designated on-ground course is a mandatory to maintain the on-ground presence required by your F-1 student status. Therefore, OGS does not recommend that any F-1 student be absent from the U.S. for an extended period during the academic term, as their F-1 status and academic goals may be negatively impacted. In cases where travel outside of the U.S. cannot be avoided, we highly recommend that students limit their absence from the U.S. and in-person classes as much as possible. If students choose to travel during a required term, they are taking on the associated risks, including but not limited to scrutiny by Customs and Border Protection (CBP) upon re-entry to the U.S. as well as scrutiny when applying for future immigration status or benefits. Application Process To participate in an experiential learning opportunity in the U.S., F-1 students must obtain CPT authorization from OGS. All CPT requests must first be academically reviewed, approved, and determined to be integral or required for degree completion, by the appropriate advisor, co-op coordinator, or authorized secondary approver. Step 1: Student completes the CPT Authorization Request e-form The student must fill out the CPT Authorization Request e-form. The documents the student will need include: Electronic I-94 (“Class of Admission” must be F-1 and “Admit Until Date” must indicate “D/S”) Passport identity page that is valid at least until the start date of the CPT authorization When the student has submitted the e-form it will be routed to the secondary approver as indicated in the e-form. Step 2: Secondary approver reviews student's CPT e-form submission The Authorized Secondary Approver (CPT) who receives the request will review the information the student has entered and determine if they approve it academically as either integral or required for program completion. If approved, the Authorized Secondary Approver will submit the request to OGS. If the Authorized Secondary Approver does not approve of the request, they will email the student directly regarding their decision. See below for Authorized Secondary Approver Lists : Undergraduate Students Graduate Students Step 3: OGS reviews completed CPT e-form submission Upon receipt of the completed e-form from the Secondary Approver, OGS will review the CPT request within 15 business days. OGS will examine the student’s documents to determine if they meet all F-1 eligibility requirements for CPT. OGS may place the request on hold and email the student/advisor for more information or approve/deny the CPT request. Step 4: Student receives updated I-20 with CPT recommendation If your CPT request is approved, a Designated School Official (DSO) from OGS will send the I-20 electronically to your Northeastern University email. You are advised to: Review your I-20 to ensure all information is accurate and complete Print and sign your I-20 Only work within the listed start and end dates on your I-20 Updating or changing your CPT authorization While on CPT, any updates, extensions, changes, or cancellations to your employment must be reported to and approved both by your academic/co-op advisor and by a DSO in OGS. These changes include: Employer Location Date Number of hours worked per week (full-time/part-time) Cancellations Other corrections Once authorized for CPT, F-1 students must comply with the authorization granted. How CPT affects OPT Eligibility If an F-1 student exceeds 364 days of full-time CPT (more than 20 hours per week at a degree level—bachelor’s, master’s or doctorate), they will lose their eligibility to apply for Optional Practical Training (OPT) at that degree level. Part-time CPT (20 hours per week or less) does not accrue time towards the 364-day calculation. When counting CPT days, every day between the start and end date of CPT is included (including the start and end dates). The days that are counted are the days that the student had authorization, not the days the student actually worked. This means even if it was a weekend, holiday, vacation etc., it still counts if the student had CPT authorization. It is the responsibility of the student to track of how many full-time CPT days have been used per degree level. Students can use previously issued I-20s to document this. Students may also request a summary of their CPT authorization history at Northeastern from OGS via this e-form . As a reminder, CPT is a benefit of F-1 status, not a guarantee. While students may be able to work up to 364 days while maintaining OPT eligibility, CPT authorization is directly tied to a student’s academic curriculum. Therefore, the amount of CPT for which students are eligible and may be authorized is entirely based on their program of study, as well as F-1 federal regulations. Simply because an F-1 student has not engaged in 364 days of full-time CPT does not necessarily mean the student is eligible for additional CPT or an extension of a current CPT authorization. Change of Status and SEVIS Transfer Students Change of Status Students Full-time students who have applied to change their immigration status to F-1 within the U.S. (application through USICS) or by traveling (via consular processing) may be eligible to use time from a previous immigration status towards accruing benefits, such as CPT, as long as the student has previously maintained full-time enrollment requirements. Please contact OGS to make an appointment with a DSO to discuss CPT eligibility and bring all applicable documentation with you (e.g. official transcripts, a copy of your I-797 approval notice if you changed status within the U.S.). SEVIS Transfer Students International students with Active F-1 records who transfer their SEVIS record to Northeastern University may be eligible to use enrolled time at the previous institution towards the one academic year requirement for CPT eligibility. Please contact OGS to make an appointment with a DSO to discuss CPT eligibility and have all applicable documentation available (e.g. official transcripts and your previous I-20) Key Resources CPT Authorization Request Form » This e-form is to request authorization for Curricular Practical Training. CPT Update e-form » This form is intended only for updates to existing CPT authorization – it is not intended for students who are requesting new periods of CPT authorization or who are trying to extend their CPT authorization for new academic terms. CPT Authorization History Request » This e-form is to request the number of days authorized for CPT. Related Articles: Social Security Number Unauthorized Employment Navigate this Page: Frequently Asked Questions » Frequently Asked Questions × Can I request CPT authorization in my final term of study? The Office of Global Services will only authorize CPT in a student’s final term if the practical training experience is required for degree completion. Can I request CPT authorization for my independent study course? Independent study courses do not qualify for CPT authorization. Do I need CPT authorization for an internship or co-op that is unpaid? Yes! All work associated with an experiential learning opportunity requires CPT authorization, even if it is unpaid. Is there a limit to the number of hours per week I can work while authorized for CPT? In order to know the answer to this, you will need to understand what kind of CPT authorization you have. You can find this information on the second page of your I-20. If your I-20 states you have part-time CPT, then this means you can never exceed 20 hours per week. If your I-20 states you have full-time CPT, then this means there is no limit to the number of hours per week you can work. However, you must always check with your advisor or co-op coordinator to see if they have a limit to the number of hours per week you can work. Do I need CPT authorization for training dates that occur prior to employment? Yes, all training dates require prior CPT authorization. Remember, even time spend while you are not being paid requires CPT authorization. How will I know if I have received CPT authorization? You will know if you have CPT authorization by checking the second page of your most recent I-20. On the second page of your I-20, you will see all the details of your employment authorization. Can I take additional courses while I'm participating in a co-op/internship/clinical rotation? If you would like to enroll in courses while you are participating in a co-op/internship/clinical rotation, you must check with your co-op department or advisor to see if there are academic or university restrictions that would prevent you from doing so. Can I have an on-campus job while I am authorized for CPT during a co-op/internship/clinical rotation? Yes, students are allowed to work on-campus while they also have CPT. However, students are not allowed to work on an SGA (Stipended Graduate Assistantship) and be authorized for CPT for a paid experience at the same time. Please keep in mind that some colleges may not allow you to work on-campus and be on coop at the same time or may have restrictions on how much on-campus employment is allowed while on coop. If this is the case, you will need to follow your co-op department’s rules. My employer offered to extend my co-op/internship on a part-time basis. Can I do this? If your employer offers to extend your co-op/internship on a part-time basis, you must inquire with your academic department to determine if the extension is curricular and is integral to your course of study. If it is determined that the continuation of your co-op/internship is integral to your course of study, you may be eligible to request CPT authorization again. If the continuation of the co-op/internship is not supported academically, you may be eligible to apply for Pre-Completion Optional Practical Training (Pre-OPT). Does part-time CPT count towards the 364 day mark that affects my OPT eligibility? No, part-time CPT authorization does not count towards the 364 days of authorization that would impact OPT eligibility. How can I find out how much CPT time I've used? You can calculate how much CPT time you’ve used by looking at past I-20s. You can also request documentation of your previous CPT authorizations from OGS by filling out the following e-form. Do I need CPT authorization if Northeastern is my employer during co-op/internship/clinical rotation? Students must be authorized for CPT for any experiential learning they conduct, on- or off-campus, paid or unpaid. Students who pursue experiential learning with Northeastern as their employer require CPT authorization. Can I end my CPT earlier than the original end date? Students must consult with their co-op and/or academic advisor if there will be any changes to their approved Co-op/CPT employment in order to ensure that all academic requirements will be met (this link is specific to Co-op requirements). Then, students must follow up with OGS by completing the CPT Update E-form to report changes to OGS in order to receive an updated I-20. How do I find who my authorized secondary approver for CPT is? Authorized secondary approvers are often co-op coordinators or academic advisors for programs that involve experiential learning other than co-op. The lists of authorized secondary approvers for CPT can be found here: Undergraduate students Graduate students I am pursuing a double/combined major. How do I know if my opportunity is eligible for CPT? Students are only eligible for CPT authorization if their opportunity is directly related to their major area of study. For students with double or combined majors, the opportunity may be related to either major. This criteria is confirmed by the students authorized secondary approver, as they have the required understanding about student’s major/curriculum to make this determination.Students Studying in \\n\\t\\t\\t\\t\\t\\t\\t\\t\\t\\t\\t\\t\\t\\t\\t\\t\\t\\t\\t\\t\\t\\t\\t\\tThe United States Volunteering and Unpaid Internships Northeastern University values experiential learning and serving our communities.  While volunteering may seem simple, it is actually a complex area in which immigration regulations and labor laws intersect. Complexities of volunteering If you are interested in volunteering, you must be aware of relevant F-1 and J-1 regulations, so you and the organization do not violate any rules regarding employment authorization. F-1 and J-1 students who are working off-campus must be authorized before engaging in the employment. Without proper authorization, off-campus employment, including some volunteering, would be considered a violation of your F-1 or J-1 requirements. The consequences may include loss of your F-1 or J-1 status in the U.S.—making it difficult to reacquire lawful status within the U.S. If you are considering engaging in a volunteering opportunity, please make an appointment with an OGS adviser before making plans to begin any activity. Volunteering vs. Unpaid Internship There is a difference between volunteering and engaging in an unpaid internship. Volunteering refers to donating time with an organization whose primary purpose is charitable or humanitarian in nature, without remuneration or any other type of compensation. F-1 and J-1 students are allowed to engage in volunteer work as long as it meets this stated criteria. For example, it is permitted for F-1 and J-1 students to volunteer at a local homeless shelter, charitable food pantry, or American Red Cross. Unpaid internships, on the other hand, do not usually qualify as “volunteer” activity. Internships, both paid and unpaid, are primarily offered by the private sector and related to the intern’s major field of study. Therefore, F-1 and J-1 students are advised to seek work authorization prior in order to engage in unpaid internships. The Department of Labor in the U.S. has guidelines for those seeking an unpaid internship, please see here , the “Primary Beneficiary Test” outlined on the Department of Labor’s website can be used to determine whether or not the unpaid internship is considered employment. Because of the consequences of unauthorized employment, we caution all F-1 and J-1 students to consult the Office of Global Services when considering engaging in an unpaid internship or volunteering opportunity. Please make an appointment with an OGS advisor before making plans to begin any activity. U.S. Department of Labor's definition volunteering The Department of Labor is concerned both with the protection of jobs for U.S citizens, and with the prevention of exploitation of workers. They have created laws to ensure employment that should be paid is not done for free. While both you and the employer may be happy with an unpaid arrangement (for example, you may be eager to work even on an unpaid basis in a company in order to gain job experience), this may be considered an unfair arrangement in cases where the work is normally performed by a paid person and both the company and the employee are benefiting from the employment. How to determine whether an activity is truly volunteering and does NOT require work authorization Employment authorization is NOT required when the work performed can be considered volunteering. To be considered volunteering, the work performed by the individual must meet the following criteria: No compensation or expectation of compensation The volunteer cannot displace a genuine employee and the services provided by the volunteer should not be the same services for which he or she was previously paid and/or expects to be hired and paid for in the future Services are performed for a non-profit charity and the work is “charitable” in nature Services are performed for a state or local government agency and there is a “civic” purpose to the work Volunteering at Northeastern If you are a student considering volunteering or engaging in unpaid internships at Northeastern or a staff/faculty looking to hire a volunteer or unpaid intern, please review this guidance from Northeastern University Office of General Counsel. Due to the complexity of U.S. labor laws: all university departments, who want to have students volunteer within their department, are advised to thoroughly review this resource. If they have further questions on whether or not the engagement is considered volunteering, they should check directly with the Office of General Counsel. Related Articles: F-1 Curricular Practical Training J-1 Academic Training Navigate this Page: Frequently Asked Questions » Frequently Asked Questions × Is it employment or volunteering? A common misconception is that the only difference is employees get paid and volunteers do not. However, according to U.S. labor laws, there is more to distinguish between employees and volunteers than whether an individual receives a regular paycheck or not. Work that is unpaid may still be considered employment that requires F-1 or J-1 off-campus work authorization. Who is considered an employee? The definition of an employee used in the context of immigration regulations is as follows: “An individual who provides services or labor for an employer for wages or other remuneration.” The term “remuneration” is very broad and includes a variety of non-monetary benefits, such as free housing, food, gifts, etc. Who is considered a volunteer? According to the Department of Labor, volunteers are individuals “who volunteer or donate their services, usually on a part-time basis, for public services, religious or humanitarian objectives, not as employees and without contemplation of pay, are not considered employees of the religious, charitable or similar non-profit organizations that receive their service.” To learn more, click here .Students Studying in \\n\\t\\t\\t\\t\\t\\t\\t\\t\\t\\t\\t\\t\\t\\t\\t\\t\\t\\t\\t\\t\\t\\t\\t\\tCanada Working While Studying Updated November 15th, 2024 Learn more about studying in Canada Work on Campus You can work on-campus as an international student without a Work Permit if you meet the three criteria below: You have a valid study permit with a condition allowing you to work ; You are a full-time student at Northeastern University; You have a Social Insurance Number (SIN) You must stop working on-campus: on the day you stop studying full-time when your study permit expires if you’re on an authorized leave from your studies if you’re switching schools and aren’t currently studying You can return to work only once you’re back to studying and you meet all the requirements to work on-campus. Please also be aware of the Northeastern University policies about working on campus as an international student. Students are only allowed to work 20 hours per week for an on-campus job during the school term, and up to 40 hours during scheduled breaks. Work off Campus Starting Nov 8, 2024, You can work off-campus as an international student without a Work Permit up to 24 hours per week or full-time during the scheduled school breaks if you meet the four criteria below: You have a valid study permit that includes a condition stating you may work off campus; You are a full-time student at Northeastern University; You have a Social Insurance Number (SIN); You need to have full time student status, before and after the scheduled break. For more information please see the IRCC webpage here . If you are a part time student You can work off-campus only if: You meet all the requirements above and You’re only studying part-time, instead of full time, because: You’re in the last semester of your program and you don’t need a full course load to complete your program and You were a full-time student in your program in Canada, up until your last semester Note: You can only start working on or off campus when you start your program. You can’t work before your studies begin. Co-op Work If work experience is a necessary and integral part of your program and you meet the college co-op program criteria, you may work full-time during their designated co-op term(s) .\\xa0 All NU programs are eligible for co-op. During your co-op term you must be cleared by your college for co-op, register for the co-op course, and have a valid co-op permit in hand. To check whether you may participate in the co-op program, please check your college website and/or contact your co-op coordinator. To check how to apply for a co-op work permit, please v isit here . To request a co-op school letter, please contact our international student advisors at [email\\xa0protected] . Please note that this is for CURRENTLY ENROLLED students only. If you are an incoming student, you need to upload your POA as your proof of co-op during your program in your Study Permit application. Please do not email us for a co-op letter. Navigate this Page: Frequently Asked Questions ×Return from Leave of Absence Less Than 5 Months Return from Leave of Absence Less Than 5 Months » This is to request a new I-20 to resume classes after a leave of absence of less than 5 months Navigate this Page: Frequently Asked Questions ×\\nIf the query can be answered with the context provided in the content, frame an answer. Otherwise, state: 'As an Northeastern's OGS assistant I do not have an answer to that question.'\"}\n",
      "{'role': 'assistant', 'content': \"As an Northeastern's OGS assistant, I can provide guidance on the different types of internships and co-ops available to F-1 and J-1 students.\\n\\nAccording to the content, a part-time 20-hour week internship or co-op is allowed. However, there are some conditions and requirements to be met:\\n\\n- If you are in your first term of enrollment at Northeastern, you must maintain full-time enrollment and on-ground presence during the summer term(s).\\n- If you are in your final term of enrollment, you must maintain full-time enrollment and on-ground presence throughout the duration of your final term.\\n- You must have a valid I-20 or DS-2019.\\n- You must have an approved change of degree level (CDL) or change of status (COS) or be returning to Northeastern after a leave of absence.\\n- You must be enrolled full-time in the full summer or in the summer quarter.\\n- You must be enrolled in a course that requires an experiential learning component in the syllabus.\\n- You must be enrolled in a course that requires an experiential learning component in the syllabus.\\n- You must have CPT authorization from OGS.\\n- You must be authorized for CPT for the entire duration\"}\n"
     ]
    }
   ],
   "source": [
    "for line in output:\n",
    "    print(line)"
   ]
  },
  {
   "cell_type": "code",
   "execution_count": null,
   "metadata": {
    "id": "26fxY9SB--E8"
   },
   "outputs": [],
   "source": []
  },
  {
   "cell_type": "code",
   "execution_count": 70,
   "metadata": {
    "colab": {
     "base_uri": "https://localhost:8080/"
    },
    "executionInfo": {
     "elapsed": 24,
     "status": "ok",
     "timestamp": 1741542140833,
     "user": {
      "displayName": "Himanshu Tahelyani",
      "userId": "02216693148548812411"
     },
     "user_tz": 240
    },
    "id": "N4OjgyHpmIi3",
    "outputId": "1feb61ff-3ea3-4433-a1ca-c5c537e0b8fc"
   },
   "outputs": [
    {
     "name": "stdout",
     "output_type": "stream",
     "text": [
      "As an Northeastern's OGS assistant, I can provide guidance on the different types of internships and co-ops available to F-1 and J-1 students.\n",
      "\n",
      "According to the content, a part-time 20-hour week internship or co-op is allowed. However, there are some conditions and requirements to be met:\n",
      "\n",
      "- If you are in your first term of enrollment at Northeastern, you must maintain full-time enrollment and on-ground presence during the summer term(s).\n",
      "- If you are in your final term of enrollment, you must maintain full-time enrollment and on-ground presence throughout the duration of your final term.\n",
      "- You must have a valid I-20 or DS-2019.\n",
      "- You must have an approved change of degree level (CDL) or change of status (COS) or be returning to Northeastern after a leave of absence.\n",
      "- You must be enrolled full-time in the full summer or in the summer quarter.\n",
      "- You must be enrolled in a course that requires an experiential learning component in the syllabus.\n",
      "- You must be enrolled in a course that requires an experiential learning component in the syllabus.\n",
      "- You must have CPT authorization from OGS.\n",
      "- You must be authorized for CPT for the entire duration\n"
     ]
    }
   ],
   "source": [
    "print(output[1][\"content\"])"
   ]
  },
  {
   "cell_type": "code",
   "execution_count": null,
   "metadata": {
    "id": "EZutqWJI9aB2"
   },
   "outputs": [],
   "source": []
  }
 ],
 "metadata": {
  "accelerator": "GPU",
  "colab": {
   "gpuType": "T4",
   "provenance": []
  },
  "kernelspec": {
   "display_name": "Python 3",
   "name": "python3"
  },
  "language_info": {
   "codemirror_mode": {
    "name": "ipython",
    "version": 3
   },
   "file_extension": ".py",
   "mimetype": "text/x-python",
   "name": "python",
   "nbconvert_exporter": "python",
   "pygments_lexer": "ipython3",
   "version": "3.12.2"
  }
 },
 "nbformat": 4,
 "nbformat_minor": 0
}
